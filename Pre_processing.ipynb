{
  "nbformat": 4,
  "nbformat_minor": 0,
  "metadata": {
    "colab": {
      "provenance": []
    },
    "kernelspec": {
      "name": "python3",
      "display_name": "Python 3"
    },
    "language_info": {
      "name": "python"
    }
  },
  "cells": [
    {
      "cell_type": "markdown",
      "source": [
        "# Pré processamento"
      ],
      "metadata": {
        "id": "6jlg7UjuJNWI"
      }
    },
    {
      "cell_type": "markdown",
      "source": [
        "## Motivação"
      ],
      "metadata": {
        "id": "PvHR_zqGJSlM"
      }
    },
    {
      "cell_type": "markdown",
      "source": [
        "O *pré processamento* é um conjunto de técnicas que transforma dados brutos em um formato adequado para serem utilizados em tarefas posteriores. No contexto de Processamento de Linguaguem Natural (NLP), envolve Remoção de caracateres não alfanuméricos, Tokenização, Remoção de acentos, Lowercasing , Remoção de Stop-words, Stemming e Lematização. Dependendo da aplicação, podem ser adicionadas ou removidas etapas do pré processamento. A importância da qualidade de dados é tão grande que gerou o famoso ditado \"Garbage in, garbage out\" (GIGO), que associa a qualidade da saída de um modelo à qualidade de sua entrada, por isso realizar um bom pré-processamento é fundamental em ciência de dados.\n",
        "\n",
        "Além do pré-processamento, na fase inicial de análise de um dataset, é bastante comum o uso de técnicas de Análise Exploratória de Dados(AED) e Visualização de Dados. Tais técnicas são bastante importantes, pois permitem a compreensão dos dados, bem como encontrar padrões e detectar anomalias nos mesmos. Por vezes, a Análise Exploratória de Dados obtém insignts que ajudam a escolher quais algoritmos de aprendizado de máquinas devem ser utilizados e/ou identificam mudanças que devem ser feitas no pré processamento. Em alguns casos, o pré processamento é realizados após a AED e Visualização dos Dados."
      ],
      "metadata": {
        "id": "p28xC_YsMYl9"
      }
    },
    {
      "cell_type": "markdown",
      "source": [
        "## Resultados esperados\n"
      ],
      "metadata": {
        "id": "OM6vd8xqJcVE"
      }
    },
    {
      "cell_type": "markdown",
      "source": [
        "Neste laboratório, será estudado como realizar a Análise Exploratória, Visualização e o Pré Processamento de dados textuais, usando como exemplo o dataset **BBC News Archive**, o qual pode ser encontrado em [1]. Assim, espera-se que os alunos compreendam plenamente tais conceitos. Ademais, espera-se que os estudantes estejam aptos a realizar Pré Processamento, AED e Visualização de Dados em qualquer conjunto de dados, podendo adaptar os passos do roteiro conforme as necessidades específicas da aplicação a ser desenvolvida. Para praticar os conceitos abordados, os alunos deverão aplicar as técnicas estudadas no dataset **WOS5736s**, disponível em [2].\n",
        "\n",
        "[1] https://www.kaggle.com/datasets/hgultekin/bbcnewsarchive?select=bbc-news-data.csv\n",
        "\n",
        "[2] https://github.com/wuchengyuan88/document-classification/tree/master"
      ],
      "metadata": {
        "id": "ae7AKspRNBc0"
      }
    },
    {
      "cell_type": "markdown",
      "source": [
        "## Fundamentação teórica"
      ],
      "metadata": {
        "id": "w878GFJGJUon"
      }
    },
    {
      "cell_type": "markdown",
      "source": [
        "### Pré processamento"
      ],
      "metadata": {
        "id": "BpAHtOHN82ZS"
      }
    },
    {
      "cell_type": "markdown",
      "source": [
        "O pré processamento transforma dados brutos em dados passíveis de serem utilizados em Inteligência Artificial. Assim, dado uma base de dados, é na fase de pré processamento que é realizada a verificação de dados ausentes ou inconsistes, a normalização, padronização e tranformação dos dados. A quantidade de etapas do pré processamento pode variar de aplicação para aplicação, mas o conceito é o mesmo: transformar dados brutos em um formato adequado para serem utilizados.\n",
        "\n",
        "Neste laboratório, serão realizadas as seguintes etapas de pré processamento: Lowercasing , Tokenização, Remoção de caracteres não alfanuméricos , Remoção de acentos, Remoção de stop-words, Lematização e Stemming.\n",
        "\n",
        "#### Lowercasing\n",
        "\n",
        "Lowercasing é o processo de converter os caracteres de um texto para caracteres minúsculos. Por exemplo, na sentença \"Hello World\", após o lowercasing, a sentença se tornaria \"hello world\".\n",
        "\n",
        "Esse processo é importante porque elimina a distinção entre caracteres maiúsculos e minúsculos, reduzindo o número de caracteres únicos no conjunto de dados. Em tarefas de classificação e busca, o lowercasing é especialmente relevante, pois uniformiza palavras como \"Laranja\" e \"laranja\", o que pode reduzir o número de classes distintas no dataset para a classificação e diminuir o tamanho da busca, otimizando-a.\n",
        "\n",
        "#### Tokenização\n",
        "\n",
        "A tokenização é o processo de transformar dados textuais em unidades menores, chamadas tokens, que podem ser palavras, caracteres ou subpalavras. O objetivo da tokenização é simplificar o processamento do texto, segmentando-o em partes menores para análises posteriores. Por exemplo, dada a frase de Machado de Assis: \"Ao verme que primeiro roeu as frias carnes do meu cadáver dedico com saudosa lembrança estas memórias póstumas\".\n",
        "\n",
        "Tokenização por palavras:\n",
        "\n",
        "['Ao', 'verme', 'que', 'primeiro', 'roeu', 'as', 'frias', 'carnes', 'do', 'meu', 'cadáver', 'dedico', 'com', 'saudosa', 'lembrança', 'estas', 'memórias', 'póstumas.']\n",
        "\n",
        "\n",
        "Tokenização por caraceteres :\n",
        "\n",
        "['A', 'o', ' ', 'v', 'e', 'r', 'm', 'e', ' ', 'q', 'u', 'e', ' ', 'p', 'r', 'i', 'm', 'e', 'i', 'r', 'o', ' ', 'r', 'o', 'e', 'u', ' ', 'a', 's', ' ', 'f', 'r', 'i', 'a', 's', ' ', 'c', 'a', 'r', 'n', 'e', 's', ' ', 'd', 'o', ' ', 'm', 'e', 'u', ' ', 'c', 'a', 'd', 'á', 'v', 'e', 'r', ',', ' ', 'd', 'e', 'd', 'i', 'c', 'o', ' ', 'c', 'o', 'm', ' ', 's', 'a', 'u', 'd', 'o', 's', 'a', ' ', 'l', 'e', 'm', 'b', 'r', 'a', 'n', 'ç', 'a', ' ', 'e', 's', 't', 'a', 's', ' ', 'm', 'e', 'm', 'ó', 'r', 'i', 'a', 's', ' ', 'p', 'ó', 's', 't', 'u', 'm', 'a', 's', '.']\n",
        "\n",
        "A tokenização por subpalavras não é tão intuitiva. Na palavra \"verme\", poderia-se separar \"ver\" e \"me\", porém , esse modo de tokenizar é mais indicado para idiomas que costumam formar palavras a partir da combinação de outras. No português, existem alguns exemplos como \"guarda-sol\", \"guarda-chuva\", entre outras. Apesar disso, no português a tokenização costuma ser por palavras.\n",
        "\n",
        "\n",
        "\n",
        "#### Remoção de caracteres não alfanuméricos\n",
        "\n",
        "A etapa de remoção de caracteres não alfanuméricos consistes em remover todos os caracteres que não sejam letras ou algarismos de um cadeia de caracteres. Por exemplo, na sentença :\n",
        "\n",
        "**\"Olá! Como você está? Eu estou feliz porque o dia está muito bonito hoje! :) ^^ '-' xD\".**\n",
        "\n",
        "Após a remoção de caracteres não afanuméricos, a sentença seria :\n",
        "\n",
        "**\"Olá Como você está Eu estou feliz porque o dia está muito bonito hoje xD\"**\n",
        "\n",
        "A remoção de caracteres não alfanuméricos é bastante comum , pois diminiu o tamanho do vocabulário e o simplifica bem como facilita as etapas de lematização e stemming, que serão explicadas posteriormente. Ademais, a remoção de caracteres não alfanumérciso permite ao modelo focar nas palavras que trazem mais informação semântica ao texto.\n",
        "\n",
        "#### Remoção de acentos\n",
        "\n",
        "A remoção de acentos é uma técnica bastante comum no pré-processamento que visa simplificar o vocabulário e padronizar as palavras. Ao eliminar os acentos, palavras como \"mecânica\" e \"mecanica\" são consideradas idênticas. Essa simplicação é bastante útil pois reduz a variação das palavras, o que também facilita as técnicas de lematização e stemming.\n",
        "\n",
        "#### Remoção de stop-words\n",
        "\n",
        "Stop-words são palavras extremamente comuns em um conjunto de texto, mas que trazem pouco significado semântico. Nesse sentido, a maioria da stop-words são artigos, preposições, conjunções e pronomes. Por exemplo:\n",
        "\n",
        "* Artigos: o, a , os, as, um, uns, uma, umas\n",
        "* Preposições : a , ante, após, com, contra, de, desde ...\n",
        "* Conjunções : que, se , mas, porém\n",
        "* Pronomes: meu, seu, teu ...\n",
        "\n",
        "Cada idioma possui uma lista de stop-words e nem todas as palavras das classes gramaticais citadas são stop-words. Também é possível que palavras de outras classes gramaticais sejam stop-words. Assim sendo, é possível utilizar uma função de remoção pronta de uma biblioteca ou criar uma lista de palavras e removê-la manualmente dependendo da aplicação.\n",
        "\n",
        "A remoção de stop-words é importante pois reduz o vocabulário, mantendo palavras que trazem maior informação semântica ao texto. Essa etapa de pré processamento é especialmente importante em aplicações como busca e classificação de texto.\n",
        "\n",
        "#### Lematização\n",
        "\n",
        "A lematização é uma técnica que visa reduzir uma palavra a sua forma canônica, ou seja, a sua forma base, sendo esta também chamada de *lemma*. Por exemplo, considere as palavras abaixo e seu *lemma*:\n",
        "\n",
        "\\begin{array}{|c|ccccc|}\n",
        "  \\hline Palavras\n",
        "  & Lemma \\\\\n",
        "  \\hline\n",
        "  going, went, gone     & go \\\\\n",
        "  better , best, goodest  & good \\\\\n",
        "  casa, casinha, casão, casas & casa \\\\\n",
        "  fazer , fazendo, fiz     & fazer \\\\\n",
        "  \\hline\n",
        "\\end{array}\n",
        "\n",
        "É possível perceber a lematização reduz a palavra ao seu significado essencial, o que facilita a análise de texto.\n",
        "\n",
        "Neste laboratório, será utilizado o lematizador da biblioteca spaCy. Esse lematizador utiliza um dicionário lexical, com informações sobre a classe morfológica da palavra, por exemplo qual é classe gramatical, se é uma stop word, entre outras, além de aplicar regras linguísticas para analisar o contexto da palavra. Assim, dada uma palavra, o lematizador do spaCy consulta seu dicionário para descobrir o lemma em questão. Para acessar as informações lexicais dos tokens, basta imprir \"token.info_desejada_\" . Por exemplo, \"token.tag_\", \"token.is_stop\" , \"token.prefix_\", entre outros.\n",
        "\n",
        "\n",
        " A lematização é muito importante em tarefas como busca e análise de sentimentos.\n",
        "\n",
        "#### Stemming\n",
        "\n",
        "O stemming é uma técnica de pré processamento que visa reduzir palavras flexionadas ou derivadas a sua raíz (stem). Essa redução ocorre pela remoção de um sufixo e/ou prefixo de uma palavra. Por exemplo, considere as palavras abaixo e seu *stem*:\n",
        "\n",
        "\\begin{array}{|c|ccccc|}\n",
        "  \\hline Palavras\n",
        "  & Stem \\\\\n",
        "  \\hline\n",
        "  improving, improved, improvements    & improv \\\\\n",
        "  working, work, works  & work \\\\\n",
        "  estudando, estudar, estudei & estud \\\\\n",
        "  brincando, brincar, brincou & brinc \\\\\n",
        "  \\hline\n",
        "\\end{array}\n",
        "\n",
        "Note que o stemming é parecido com a lematização. A diferença é que a lematização é uma técnica mais sofisticada que considerada o significa semântico das palavras.\n",
        "\n",
        "Neste laboratório será utilizado o stemmer de língua inglesa Porter, desenvolvido por Martin Porter (porter1980algorithm). Esse stemmer aplica uma série de regras para remover sufixos de uma dada palavra. Essas regras são baseadas em padrões comuns de palavras no inglês. Por exemplo, há regras que removem os sufixos -ing, -ed, -s, -ies , entre outros. Dessa forma, essas regras são aplicadas sequencialmente até que não seja possível realizar mais remoções de sufixos na palavra.\n",
        "\n",
        "Tanto o stemming quanto a lematização são importantes para tarefas como agrupamento, classificação e busca, pois simplifica palavras semelhantes a uma forma única.\n"
      ],
      "metadata": {
        "id": "cPjkiua3WYcf"
      }
    },
    {
      "cell_type": "markdown",
      "source": [
        "### Visualização de Dados"
      ],
      "metadata": {
        "id": "FxjWQwAZ9EMl"
      }
    },
    {
      "cell_type": "markdown",
      "source": [
        "A Visualização de Dados é o processo de representar dados de forma gráfica ou visual, com o objetivo de comunicar informações de maneira rápida e eficiente. Em muitos casos, os datasets podem ser extremamente grandes ou conter informações provenientes de diversas fontes, tornando a Visualização de Dados essencial para uma compreensão mais profunda e rápida do conjunto de dados.\n",
        "\n",
        "Alguns dos gráficos mais comuns na visualização de dados incluem:\n",
        "\n",
        "*   Gráficos de Barras: Utilizados para comparar categorias ou grupos, destacando\n",
        "as diferenças de magnitude entre eles.\n",
        "*   Gráficos de Linhas: Utilizados para mostrar a evolução dos dados ao longo do tempo ou para comparar diferentes séries temporais.\n",
        "*   Histogramas: Representam a distribuição de dados contínuos, ilustrando a frequência dos valores em diferentes intervalos.\n",
        "*   Boxplots: Mostram a distribuição dos dados, evidenciando quartis, mediana, e possíveis outliers.\n",
        "\n",
        "\n",
        "O uso de gráficos e diagramas facilita a compreensão rápida e clara de informações, especialmente durante a fase de exploração de um dataset, quando ainda há poucas informações disponíveis. Nessa etapa, a visualização dos dados pode ser extremamente útil para identificar padrões e anomalias que poderiam passar despercebidos em análises puramente numéricas.\n",
        "\n",
        "Além disso, a Visualização de Dados não se limita à exploração inicial. Ela também é fundamental para o monitoramento contínuo de aplicações e para apoiar a tomada de decisões estratégicas, permitindo que insights sejam transformados em ações com maior eficácia.\n",
        "\n",
        "\n"
      ],
      "metadata": {
        "id": "e_BQ7kbK9Hm_"
      }
    },
    {
      "cell_type": "markdown",
      "source": [
        "### Análise Exploratória de Dados (AED)"
      ],
      "metadata": {
        "id": "ddqNEoKYDyk8"
      }
    },
    {
      "cell_type": "markdown",
      "source": [
        "A Análise Exploratória de Dados (AED), assim como a Visualização de Dados, tem como objetivo compreender melhor o dataset, identificar padrões, outliers e relações entre os dados. No entanto, a AED vai além da visualização ao incluir também o cálculo de medidas estatísticas básicas e o teste de hipóteses preliminares sobre o dataset. Essa abordagem foi amplamente promovida pelo cientista John Tukey em seu livro \"Exploratory Data Analysis\"  \\cite{tukey1977eda}\n",
        "\n",
        "Tukey defendia a formulação de hipóteses iniciais sobre os dados com o intuito de testá-las, permitindo a validação ou refutação das mesmas. Essa estratégia, por sua vez, poderia levar à criação de novos experimentos, à reavaliação das estratégias analíticas ou à determinação da necessidade de coletar mais dados. A abordagem exploratória proposta por Tukey visa, portanto, a construção de um entendimento mais profundo dos dados antes de se avançar para análises estatísticas mais complexas.\n",
        "\n",
        "Ademais, é bastante comum que a Análise Exploratória de Dados seja feita em conjunto com a Visualização de Dados, visto que uma complementa a outra. Nesse sentido, cálculos realizados durante a AED podem ser representados graficamente, de forma a facilitar o entendimento e comparação dos mesmos. Por outro lado, a Visualização de Dados pode levar a mais questionamentos e hipóteses e à realização de novos cálculos estatísticos adicionais. Dessa forma, tanto AED quanto a Visulização de Dados tem como objetivo principal melhorar a compreensão dos dados.\n",
        "\n",
        "O pré-processamento, a Análise Exploratória de Dados e a Visualização de Dados são frequentemente realizadas em conjunto, pois essas atividades são ajudam a preparar e entender os dados antes da aplicação de algoritmos de aprendizado de máquina."
      ],
      "metadata": {
        "id": "qu4sGDncEkCS"
      }
    },
    {
      "cell_type": "markdown",
      "source": [
        "## Código"
      ],
      "metadata": {
        "id": "9cUPNehxJYL8"
      }
    },
    {
      "cell_type": "markdown",
      "source": [
        "Esta seção descreve como realizar operações de Pré Processamento de textos em python usando as bibliotecas \"nltk\", \"spaCy\" e \"unidecode\". A base de dados **BBC News Archive** será utilizada no exemplo. Esta base de dados contém notícias do site da BBC, publicadas entre 2004 e 2005. As notícias são divididas em 5 classes: \"business\", \"entertainment\", \"politics\", \"sport\" e \"tech\".\n",
        "O dataset pode ser obtido em [1].\n",
        "\n",
        "\n",
        "Inicialmente, a base de dados será lida em arquivo no formato csv. Em seguida, uma sequência de operações de Pré Processamento, Visualização e Análise de Dados serão realizadas e o resultado de cada operação será apresentado.\n",
        "\n",
        "\n",
        "[1] https://www.kaggle.com/datasets/hgultekin/bbcnewsarchive?select=bbc-news-data.csv\n"
      ],
      "metadata": {
        "id": "NujXNf6LuLo7"
      }
    },
    {
      "cell_type": "markdown",
      "source": [
        "### Leitura do Dataset"
      ],
      "metadata": {
        "id": "sVviaTlJvxbm"
      }
    },
    {
      "cell_type": "markdown",
      "source": [
        "O método abaixo realiza a leitura do dataset BBC News a partir do método pandas *read_table* . Após a leitura, a primeira linha do DataFrame é removida, por ser o cabeçalho. Além disso, os índices são resetados para começarem a partir no número 0."
      ],
      "metadata": {
        "id": "ttRGvooMvSmK"
      }
    },
    {
      "cell_type": "code",
      "execution_count": null,
      "metadata": {
        "id": "yrFlBMDsJJnx",
        "colab": {
          "base_uri": "https://localhost:8080/",
          "height": 206
        },
        "outputId": "a6157cd8-bc64-4ef9-97c7-9378124bd491"
      },
      "outputs": [
        {
          "output_type": "execute_result",
          "data": {
            "text/plain": [
              "      genre filename                              title  \\\n",
              "0  business  001.txt  Ad sales boost Time Warner profit   \n",
              "1  business  002.txt   Dollar gains on Greenspan speech   \n",
              "2  business  003.txt  Yukos unit buyer faces loan claim   \n",
              "3  business  004.txt  High fuel prices hit BA's profits   \n",
              "4  business  005.txt  Pernod takeover talk lifts Domecq   \n",
              "\n",
              "                                             content  \n",
              "0   Quarterly profits at US media giant TimeWarne...  \n",
              "1   The dollar has hit its highest level against ...  \n",
              "2   The owners of embattled Russian oil giant Yuk...  \n",
              "3   British Airways has blamed high fuel prices f...  \n",
              "4   Shares in UK drinks and food firm Allied Dome...  "
            ],
            "text/html": [
              "\n",
              "  <div id=\"df-8afe97f7-9609-4f15-8610-1d6574fadd16\" class=\"colab-df-container\">\n",
              "    <div>\n",
              "<style scoped>\n",
              "    .dataframe tbody tr th:only-of-type {\n",
              "        vertical-align: middle;\n",
              "    }\n",
              "\n",
              "    .dataframe tbody tr th {\n",
              "        vertical-align: top;\n",
              "    }\n",
              "\n",
              "    .dataframe thead th {\n",
              "        text-align: right;\n",
              "    }\n",
              "</style>\n",
              "<table border=\"1\" class=\"dataframe\">\n",
              "  <thead>\n",
              "    <tr style=\"text-align: right;\">\n",
              "      <th></th>\n",
              "      <th>genre</th>\n",
              "      <th>filename</th>\n",
              "      <th>title</th>\n",
              "      <th>content</th>\n",
              "    </tr>\n",
              "  </thead>\n",
              "  <tbody>\n",
              "    <tr>\n",
              "      <th>0</th>\n",
              "      <td>business</td>\n",
              "      <td>001.txt</td>\n",
              "      <td>Ad sales boost Time Warner profit</td>\n",
              "      <td>Quarterly profits at US media giant TimeWarne...</td>\n",
              "    </tr>\n",
              "    <tr>\n",
              "      <th>1</th>\n",
              "      <td>business</td>\n",
              "      <td>002.txt</td>\n",
              "      <td>Dollar gains on Greenspan speech</td>\n",
              "      <td>The dollar has hit its highest level against ...</td>\n",
              "    </tr>\n",
              "    <tr>\n",
              "      <th>2</th>\n",
              "      <td>business</td>\n",
              "      <td>003.txt</td>\n",
              "      <td>Yukos unit buyer faces loan claim</td>\n",
              "      <td>The owners of embattled Russian oil giant Yuk...</td>\n",
              "    </tr>\n",
              "    <tr>\n",
              "      <th>3</th>\n",
              "      <td>business</td>\n",
              "      <td>004.txt</td>\n",
              "      <td>High fuel prices hit BA's profits</td>\n",
              "      <td>British Airways has blamed high fuel prices f...</td>\n",
              "    </tr>\n",
              "    <tr>\n",
              "      <th>4</th>\n",
              "      <td>business</td>\n",
              "      <td>005.txt</td>\n",
              "      <td>Pernod takeover talk lifts Domecq</td>\n",
              "      <td>Shares in UK drinks and food firm Allied Dome...</td>\n",
              "    </tr>\n",
              "  </tbody>\n",
              "</table>\n",
              "</div>\n",
              "    <div class=\"colab-df-buttons\">\n",
              "\n",
              "  <div class=\"colab-df-container\">\n",
              "    <button class=\"colab-df-convert\" onclick=\"convertToInteractive('df-8afe97f7-9609-4f15-8610-1d6574fadd16')\"\n",
              "            title=\"Convert this dataframe to an interactive table.\"\n",
              "            style=\"display:none;\">\n",
              "\n",
              "  <svg xmlns=\"http://www.w3.org/2000/svg\" height=\"24px\" viewBox=\"0 -960 960 960\">\n",
              "    <path d=\"M120-120v-720h720v720H120Zm60-500h600v-160H180v160Zm220 220h160v-160H400v160Zm0 220h160v-160H400v160ZM180-400h160v-160H180v160Zm440 0h160v-160H620v160ZM180-180h160v-160H180v160Zm440 0h160v-160H620v160Z\"/>\n",
              "  </svg>\n",
              "    </button>\n",
              "\n",
              "  <style>\n",
              "    .colab-df-container {\n",
              "      display:flex;\n",
              "      gap: 12px;\n",
              "    }\n",
              "\n",
              "    .colab-df-convert {\n",
              "      background-color: #E8F0FE;\n",
              "      border: none;\n",
              "      border-radius: 50%;\n",
              "      cursor: pointer;\n",
              "      display: none;\n",
              "      fill: #1967D2;\n",
              "      height: 32px;\n",
              "      padding: 0 0 0 0;\n",
              "      width: 32px;\n",
              "    }\n",
              "\n",
              "    .colab-df-convert:hover {\n",
              "      background-color: #E2EBFA;\n",
              "      box-shadow: 0px 1px 2px rgba(60, 64, 67, 0.3), 0px 1px 3px 1px rgba(60, 64, 67, 0.15);\n",
              "      fill: #174EA6;\n",
              "    }\n",
              "\n",
              "    .colab-df-buttons div {\n",
              "      margin-bottom: 4px;\n",
              "    }\n",
              "\n",
              "    [theme=dark] .colab-df-convert {\n",
              "      background-color: #3B4455;\n",
              "      fill: #D2E3FC;\n",
              "    }\n",
              "\n",
              "    [theme=dark] .colab-df-convert:hover {\n",
              "      background-color: #434B5C;\n",
              "      box-shadow: 0px 1px 3px 1px rgba(0, 0, 0, 0.15);\n",
              "      filter: drop-shadow(0px 1px 2px rgba(0, 0, 0, 0.3));\n",
              "      fill: #FFFFFF;\n",
              "    }\n",
              "  </style>\n",
              "\n",
              "    <script>\n",
              "      const buttonEl =\n",
              "        document.querySelector('#df-8afe97f7-9609-4f15-8610-1d6574fadd16 button.colab-df-convert');\n",
              "      buttonEl.style.display =\n",
              "        google.colab.kernel.accessAllowed ? 'block' : 'none';\n",
              "\n",
              "      async function convertToInteractive(key) {\n",
              "        const element = document.querySelector('#df-8afe97f7-9609-4f15-8610-1d6574fadd16');\n",
              "        const dataTable =\n",
              "          await google.colab.kernel.invokeFunction('convertToInteractive',\n",
              "                                                    [key], {});\n",
              "        if (!dataTable) return;\n",
              "\n",
              "        const docLinkHtml = 'Like what you see? Visit the ' +\n",
              "          '<a target=\"_blank\" href=https://colab.research.google.com/notebooks/data_table.ipynb>data table notebook</a>'\n",
              "          + ' to learn more about interactive tables.';\n",
              "        element.innerHTML = '';\n",
              "        dataTable['output_type'] = 'display_data';\n",
              "        await google.colab.output.renderOutput(dataTable, element);\n",
              "        const docLink = document.createElement('div');\n",
              "        docLink.innerHTML = docLinkHtml;\n",
              "        element.appendChild(docLink);\n",
              "      }\n",
              "    </script>\n",
              "  </div>\n",
              "\n",
              "\n",
              "<div id=\"df-53d9cac9-c879-4e82-87f4-e87cf6ced3ea\">\n",
              "  <button class=\"colab-df-quickchart\" onclick=\"quickchart('df-53d9cac9-c879-4e82-87f4-e87cf6ced3ea')\"\n",
              "            title=\"Suggest charts\"\n",
              "            style=\"display:none;\">\n",
              "\n",
              "<svg xmlns=\"http://www.w3.org/2000/svg\" height=\"24px\"viewBox=\"0 0 24 24\"\n",
              "     width=\"24px\">\n",
              "    <g>\n",
              "        <path d=\"M19 3H5c-1.1 0-2 .9-2 2v14c0 1.1.9 2 2 2h14c1.1 0 2-.9 2-2V5c0-1.1-.9-2-2-2zM9 17H7v-7h2v7zm4 0h-2V7h2v10zm4 0h-2v-4h2v4z\"/>\n",
              "    </g>\n",
              "</svg>\n",
              "  </button>\n",
              "\n",
              "<style>\n",
              "  .colab-df-quickchart {\n",
              "      --bg-color: #E8F0FE;\n",
              "      --fill-color: #1967D2;\n",
              "      --hover-bg-color: #E2EBFA;\n",
              "      --hover-fill-color: #174EA6;\n",
              "      --disabled-fill-color: #AAA;\n",
              "      --disabled-bg-color: #DDD;\n",
              "  }\n",
              "\n",
              "  [theme=dark] .colab-df-quickchart {\n",
              "      --bg-color: #3B4455;\n",
              "      --fill-color: #D2E3FC;\n",
              "      --hover-bg-color: #434B5C;\n",
              "      --hover-fill-color: #FFFFFF;\n",
              "      --disabled-bg-color: #3B4455;\n",
              "      --disabled-fill-color: #666;\n",
              "  }\n",
              "\n",
              "  .colab-df-quickchart {\n",
              "    background-color: var(--bg-color);\n",
              "    border: none;\n",
              "    border-radius: 50%;\n",
              "    cursor: pointer;\n",
              "    display: none;\n",
              "    fill: var(--fill-color);\n",
              "    height: 32px;\n",
              "    padding: 0;\n",
              "    width: 32px;\n",
              "  }\n",
              "\n",
              "  .colab-df-quickchart:hover {\n",
              "    background-color: var(--hover-bg-color);\n",
              "    box-shadow: 0 1px 2px rgba(60, 64, 67, 0.3), 0 1px 3px 1px rgba(60, 64, 67, 0.15);\n",
              "    fill: var(--button-hover-fill-color);\n",
              "  }\n",
              "\n",
              "  .colab-df-quickchart-complete:disabled,\n",
              "  .colab-df-quickchart-complete:disabled:hover {\n",
              "    background-color: var(--disabled-bg-color);\n",
              "    fill: var(--disabled-fill-color);\n",
              "    box-shadow: none;\n",
              "  }\n",
              "\n",
              "  .colab-df-spinner {\n",
              "    border: 2px solid var(--fill-color);\n",
              "    border-color: transparent;\n",
              "    border-bottom-color: var(--fill-color);\n",
              "    animation:\n",
              "      spin 1s steps(1) infinite;\n",
              "  }\n",
              "\n",
              "  @keyframes spin {\n",
              "    0% {\n",
              "      border-color: transparent;\n",
              "      border-bottom-color: var(--fill-color);\n",
              "      border-left-color: var(--fill-color);\n",
              "    }\n",
              "    20% {\n",
              "      border-color: transparent;\n",
              "      border-left-color: var(--fill-color);\n",
              "      border-top-color: var(--fill-color);\n",
              "    }\n",
              "    30% {\n",
              "      border-color: transparent;\n",
              "      border-left-color: var(--fill-color);\n",
              "      border-top-color: var(--fill-color);\n",
              "      border-right-color: var(--fill-color);\n",
              "    }\n",
              "    40% {\n",
              "      border-color: transparent;\n",
              "      border-right-color: var(--fill-color);\n",
              "      border-top-color: var(--fill-color);\n",
              "    }\n",
              "    60% {\n",
              "      border-color: transparent;\n",
              "      border-right-color: var(--fill-color);\n",
              "    }\n",
              "    80% {\n",
              "      border-color: transparent;\n",
              "      border-right-color: var(--fill-color);\n",
              "      border-bottom-color: var(--fill-color);\n",
              "    }\n",
              "    90% {\n",
              "      border-color: transparent;\n",
              "      border-bottom-color: var(--fill-color);\n",
              "    }\n",
              "  }\n",
              "</style>\n",
              "\n",
              "  <script>\n",
              "    async function quickchart(key) {\n",
              "      const quickchartButtonEl =\n",
              "        document.querySelector('#' + key + ' button');\n",
              "      quickchartButtonEl.disabled = true;  // To prevent multiple clicks.\n",
              "      quickchartButtonEl.classList.add('colab-df-spinner');\n",
              "      try {\n",
              "        const charts = await google.colab.kernel.invokeFunction(\n",
              "            'suggestCharts', [key], {});\n",
              "      } catch (error) {\n",
              "        console.error('Error during call to suggestCharts:', error);\n",
              "      }\n",
              "      quickchartButtonEl.classList.remove('colab-df-spinner');\n",
              "      quickchartButtonEl.classList.add('colab-df-quickchart-complete');\n",
              "    }\n",
              "    (() => {\n",
              "      let quickchartButtonEl =\n",
              "        document.querySelector('#df-53d9cac9-c879-4e82-87f4-e87cf6ced3ea button');\n",
              "      quickchartButtonEl.style.display =\n",
              "        google.colab.kernel.accessAllowed ? 'block' : 'none';\n",
              "    })();\n",
              "  </script>\n",
              "</div>\n",
              "\n",
              "    </div>\n",
              "  </div>\n"
            ],
            "application/vnd.google.colaboratory.intrinsic+json": {
              "type": "dataframe",
              "variable_name": "df",
              "summary": "{\n  \"name\": \"df\",\n  \"rows\": 2225,\n  \"fields\": [\n    {\n      \"column\": \"genre\",\n      \"properties\": {\n        \"dtype\": \"category\",\n        \"num_unique_values\": 5,\n        \"samples\": [\n          \"entertainment\",\n          \"tech\",\n          \"politics\"\n        ],\n        \"semantic_type\": \"\",\n        \"description\": \"\"\n      }\n    },\n    {\n      \"column\": \"filename\",\n      \"properties\": {\n        \"dtype\": \"category\",\n        \"num_unique_values\": 511,\n        \"samples\": [\n          \"125.txt\",\n          \"085.txt\",\n          \"434.txt\"\n        ],\n        \"semantic_type\": \"\",\n        \"description\": \"\"\n      }\n    },\n    {\n      \"column\": \"title\",\n      \"properties\": {\n        \"dtype\": \"string\",\n        \"num_unique_values\": 2096,\n        \"samples\": [\n          \"Soaring oil 'hits world economy'\",\n          \"Bollywood DVD fraudster is jailed\",\n          \"Bening makes awards breakthrough\"\n        ],\n        \"semantic_type\": \"\",\n        \"description\": \"\"\n      }\n    },\n    {\n      \"column\": \"content\",\n      \"properties\": {\n        \"dtype\": \"string\",\n        \"num_unique_values\": 2092,\n        \"samples\": [\n          \" Kenya's athletics body has suspended two-time London Marathon runner-up Susan Chepkemei from all competition until the end of the year.  Athletics Kenya (AK) issued the ban after Chepkemei failed to turn up for a cross country training camp in Embu. \\\"We have banned her from all local and international competitions,\\\" said AK chief Isaiah Kiplagat. \\\"We shall communicate this decision to the IAAF and all meet directors all over the world.\\\" The 29-year-old finished second to Paula Radcliffe in the 2002 and 2003 London races, and was also edged out in an epic New York Marathon contest last year.  But the ban will prevent the two-time world half-marathon silver medallist from challenging Radcliffe at this year's London event in April. Global Sports Communications, Chepkemei's management company, said she had wanted to run in the World Cross Country Championships in March. But AK maintained it was making an example of Chepkemei as a warning to other Kenyan athletes. \\\"We are taking this action in order to salvage our pride,\\\" said Kiplagat. \\\"We have been accused of having no teeth to bite with and that agents are ruling over us.\\\" KA has also threatened three-time women's short-course champion Edith Masai with a similar ban if reports that she feigned injury to avoid running at the cross country world championships are true. Masai missed the national trials in early February, but was included in the provisional team on the proviso that she ran in a regional competition. She failed to run in the event, citing a leg injury. \",\n          \" The soaring cost of oil has hit global economic growth, although world's major economies should weather the storm of price rises, according to the OECD.  In its latest bi-annual report, the OECD cut its growth predictions for the world's main industrialised regions. US growth would reach 4.4% in 2004, but fall to 3.3% next year from a previous estimate of 3.7%, the OECD said. However, the Paris-based economics think tank said it believed the global economy could still regain momentum.  Forecasts for Japanese growth were also scaled back to 4.0% from 4.4% this year and 2.1% from 2.8% in 2005. But the outlook was worst for the 12-member eurozone bloc, with already sluggish growth forecasts slipping to 1.8% from 2.0% this year and 1.9% from 2.4% in 2005, the OECD said. Overall, the report forecast total growth of 3.6% in 2004 for the 30 member countries of the OECD, slipping to 2.9% next year before recovering to 3.1% in 2006. \\\"There are nonetheless good reasons to believe that despite recent oil price turbulence the world economy will regain momentum in a not-too-distant future,\\\" said Jean-Philippe Cotis, the OECD's chief economist. The price of crude is about 50% higher than it was at the start of 2004, but down on the record high of $55.67 set in late October.  A dip in oil prices and improving jobs prospects would improve consumer confidence and spending, the OECD said. \\\"The oil shock is not enormous by historical standards - we have seen worse in the seventies. If the oil price does not rise any further, then we think the shock can be absorbed within the next few quarters,\\\" Vincent Koen, a senior economist with the OECD, told the BBC's World Business Report. \\\"The recovery that was underway, and has been interrupted a bit by the oil shock this year, would then regain momentum in the course of 2005.\\\" China's booming economy and a \\\"spectacular comeback\\\" in Japan - albeit one that has faltered in recent months - would help world economic recovery, the OECD said. \\\"Supported by strong balance sheets and high profits, the recovery of business investment should continue in North America and start in earnest in Europe,\\\" it added. However, the report warned: \\\"It remains to be seen whether continental Europe will play a strong supportive role through a marked upswing of final domestic demand.\\\" The OECD highlighted current depressed household expenditure in Germany and the eurozone's over-reliance on export-led growth. \",\n          \" Consumer electronics giants Hitachi and Matshushita Electric are joining forces to share and develop technology for flat screen televisions.  The tie-up comes as the world's top producers are having to contend with falling prices and intense competition. The two Japanese companies will collaborate in research & development, production, marketing and licensing. They said the agreement would enable the two companies to expand the plasma display TV market globally.  Plasma display panels are used for large, thin TVs which are replacing old-style televisions. The display market for high-definition televisions is split between models using plasma display panels and others - manufactured by the likes of Sony and Samsung - using liquid-crystal displays (LCDs). The deal will enable Hitachi and Matsushita, which makes Panasonic brand products, to develop new technology and improve their competitiveness. Hitachi recently announced a deal to buy plasma display technology from rival Fujitsu in an effort to strengthen its presence in the market.  Separately, Fujitsu announced on Monday that it is quitting the LCD panel market by transferring its operations in the area to Japanese manufacturer Sharp. Sharp will inherit staff, manufacturing facilities and intellectual property from Fujitsu. The plasma panel market has seen rapid consolidation in recent months as the price of consumer electronic goods and components has fallen. Samsung Electronics and Sony are among other companies working together to reduce costs and speed up new product development. \"\n        ],\n        \"semantic_type\": \"\",\n        \"description\": \"\"\n      }\n    }\n  ]\n}"
            }
          },
          "metadata": {},
          "execution_count": 55
        }
      ],
      "source": [
        "import pandas as pd\n",
        "\n",
        "id_file = '1m41gWGwnLYo0nAEOABnU_MH_SCQHWfjS'\n",
        "url_file = 'https://drive.google.com/uc?id={}'.format(id_file)\n",
        "\n",
        "def create_dataframe(path):\n",
        "    columns=['genre', 'filename', 'title', 'content']\n",
        "    df =  pd.read_table(\n",
        "    path,\n",
        "    header=None,\n",
        "    names=columns,\n",
        "    sep= '\\t',\n",
        "    engine= 'python'\n",
        "    )\n",
        "    return df\n",
        "\n",
        "\n",
        "df = create_dataframe(url_file)\n",
        "df = df.drop(0).reset_index(drop=True)\n",
        "\n",
        "df.head()"
      ]
    },
    {
      "cell_type": "markdown",
      "source": [
        "O código abaixo realiza imports de bibliotecas. A biblioteca \"nltk\" será utilizada para tokenização, remoção de stop words e stemming. Já a biblioteca \"unidecode\" será utilizada para remoção de acentos e biblioteca a \"spaCy\" será utilizada para lematização. Além disso, serão utilizadas as bibliotecas \"matplotlib\" e \"seaborn\" para gerar os gráficos da Visualização de Dados. Também será utiliada a biblioteca \"random\", para sortear aleatoriamente algumas notícias para a criação de DataFrame com menos amostrar e para sortear palavras aleatórias do DataFrame e mostrar suas frequências. Por sua vez, a biblioteca \"Counter\" será utilizada para contabiliar itens de dicionários."
      ],
      "metadata": {
        "id": "W3jyu9LRvlkP"
      }
    },
    {
      "cell_type": "code",
      "source": [
        "import nltk\n",
        "nltk.download('punkt')\n",
        "from nltk import sent_tokenize, word_tokenize\n",
        "\n",
        "nltk.download('stopwords')\n",
        "from nltk.corpus import stopwords\n",
        "stop_words = set(stopwords.words('english'))\n",
        "\n",
        "import spacy\n",
        "from spacy.lang.en.examples import sentences\n",
        "\n",
        "!pip install unidecode\n",
        "import unidecode\n",
        "from nltk.stem.porter import PorterStemmer\n",
        "!python -m spacy download en_core_web_sm\n",
        "\n",
        "import matplotlib.pyplot as plt\n",
        "import seaborn as sns\n",
        "\n",
        "\n",
        "import random\n",
        "\n",
        "from collections import Counter"
      ],
      "metadata": {
        "id": "kO3G_ms-HIqo",
        "colab": {
          "base_uri": "https://localhost:8080/"
        },
        "collapsed": true,
        "outputId": "4c4d5872-7510-4068-e571-50cb5e922999"
      },
      "execution_count": null,
      "outputs": [
        {
          "output_type": "stream",
          "name": "stderr",
          "text": [
            "[nltk_data] Downloading package punkt to /root/nltk_data...\n",
            "[nltk_data]   Package punkt is already up-to-date!\n",
            "[nltk_data] Downloading package stopwords to /root/nltk_data...\n",
            "[nltk_data]   Package stopwords is already up-to-date!\n"
          ]
        },
        {
          "output_type": "stream",
          "name": "stdout",
          "text": [
            "Requirement already satisfied: unidecode in /usr/local/lib/python3.10/dist-packages (1.3.8)\n",
            "Collecting en-core-web-sm==3.7.1\n",
            "  Downloading https://github.com/explosion/spacy-models/releases/download/en_core_web_sm-3.7.1/en_core_web_sm-3.7.1-py3-none-any.whl (12.8 MB)\n",
            "\u001b[2K     \u001b[90m━━━━━━━━━━━━━━━━━━━━━━━━━━━━━━━━━━━━━━━━\u001b[0m \u001b[32m12.8/12.8 MB\u001b[0m \u001b[31m33.6 MB/s\u001b[0m eta \u001b[36m0:00:00\u001b[0m\n",
            "\u001b[?25hRequirement already satisfied: spacy<3.8.0,>=3.7.2 in /usr/local/lib/python3.10/dist-packages (from en-core-web-sm==3.7.1) (3.7.5)\n",
            "Requirement already satisfied: spacy-legacy<3.1.0,>=3.0.11 in /usr/local/lib/python3.10/dist-packages (from spacy<3.8.0,>=3.7.2->en-core-web-sm==3.7.1) (3.0.12)\n",
            "Requirement already satisfied: spacy-loggers<2.0.0,>=1.0.0 in /usr/local/lib/python3.10/dist-packages (from spacy<3.8.0,>=3.7.2->en-core-web-sm==3.7.1) (1.0.5)\n",
            "Requirement already satisfied: murmurhash<1.1.0,>=0.28.0 in /usr/local/lib/python3.10/dist-packages (from spacy<3.8.0,>=3.7.2->en-core-web-sm==3.7.1) (1.0.10)\n",
            "Requirement already satisfied: cymem<2.1.0,>=2.0.2 in /usr/local/lib/python3.10/dist-packages (from spacy<3.8.0,>=3.7.2->en-core-web-sm==3.7.1) (2.0.8)\n",
            "Requirement already satisfied: preshed<3.1.0,>=3.0.2 in /usr/local/lib/python3.10/dist-packages (from spacy<3.8.0,>=3.7.2->en-core-web-sm==3.7.1) (3.0.9)\n",
            "Requirement already satisfied: thinc<8.3.0,>=8.2.2 in /usr/local/lib/python3.10/dist-packages (from spacy<3.8.0,>=3.7.2->en-core-web-sm==3.7.1) (8.2.5)\n",
            "Requirement already satisfied: wasabi<1.2.0,>=0.9.1 in /usr/local/lib/python3.10/dist-packages (from spacy<3.8.0,>=3.7.2->en-core-web-sm==3.7.1) (1.1.3)\n",
            "Requirement already satisfied: srsly<3.0.0,>=2.4.3 in /usr/local/lib/python3.10/dist-packages (from spacy<3.8.0,>=3.7.2->en-core-web-sm==3.7.1) (2.4.8)\n",
            "Requirement already satisfied: catalogue<2.1.0,>=2.0.6 in /usr/local/lib/python3.10/dist-packages (from spacy<3.8.0,>=3.7.2->en-core-web-sm==3.7.1) (2.0.10)\n",
            "Requirement already satisfied: weasel<0.5.0,>=0.1.0 in /usr/local/lib/python3.10/dist-packages (from spacy<3.8.0,>=3.7.2->en-core-web-sm==3.7.1) (0.4.1)\n",
            "Requirement already satisfied: typer<1.0.0,>=0.3.0 in /usr/local/lib/python3.10/dist-packages (from spacy<3.8.0,>=3.7.2->en-core-web-sm==3.7.1) (0.12.5)\n",
            "Requirement already satisfied: tqdm<5.0.0,>=4.38.0 in /usr/local/lib/python3.10/dist-packages (from spacy<3.8.0,>=3.7.2->en-core-web-sm==3.7.1) (4.66.5)\n",
            "Requirement already satisfied: requests<3.0.0,>=2.13.0 in /usr/local/lib/python3.10/dist-packages (from spacy<3.8.0,>=3.7.2->en-core-web-sm==3.7.1) (2.32.3)\n",
            "Requirement already satisfied: pydantic!=1.8,!=1.8.1,<3.0.0,>=1.7.4 in /usr/local/lib/python3.10/dist-packages (from spacy<3.8.0,>=3.7.2->en-core-web-sm==3.7.1) (2.9.2)\n",
            "Requirement already satisfied: jinja2 in /usr/local/lib/python3.10/dist-packages (from spacy<3.8.0,>=3.7.2->en-core-web-sm==3.7.1) (3.1.4)\n",
            "Requirement already satisfied: setuptools in /usr/local/lib/python3.10/dist-packages (from spacy<3.8.0,>=3.7.2->en-core-web-sm==3.7.1) (71.0.4)\n",
            "Requirement already satisfied: packaging>=20.0 in /usr/local/lib/python3.10/dist-packages (from spacy<3.8.0,>=3.7.2->en-core-web-sm==3.7.1) (24.1)\n",
            "Requirement already satisfied: langcodes<4.0.0,>=3.2.0 in /usr/local/lib/python3.10/dist-packages (from spacy<3.8.0,>=3.7.2->en-core-web-sm==3.7.1) (3.4.1)\n",
            "Requirement already satisfied: numpy>=1.19.0 in /usr/local/lib/python3.10/dist-packages (from spacy<3.8.0,>=3.7.2->en-core-web-sm==3.7.1) (1.26.4)\n",
            "Requirement already satisfied: language-data>=1.2 in /usr/local/lib/python3.10/dist-packages (from langcodes<4.0.0,>=3.2.0->spacy<3.8.0,>=3.7.2->en-core-web-sm==3.7.1) (1.2.0)\n",
            "Requirement already satisfied: annotated-types>=0.6.0 in /usr/local/lib/python3.10/dist-packages (from pydantic!=1.8,!=1.8.1,<3.0.0,>=1.7.4->spacy<3.8.0,>=3.7.2->en-core-web-sm==3.7.1) (0.7.0)\n",
            "Requirement already satisfied: pydantic-core==2.23.4 in /usr/local/lib/python3.10/dist-packages (from pydantic!=1.8,!=1.8.1,<3.0.0,>=1.7.4->spacy<3.8.0,>=3.7.2->en-core-web-sm==3.7.1) (2.23.4)\n",
            "Requirement already satisfied: typing-extensions>=4.6.1 in /usr/local/lib/python3.10/dist-packages (from pydantic!=1.8,!=1.8.1,<3.0.0,>=1.7.4->spacy<3.8.0,>=3.7.2->en-core-web-sm==3.7.1) (4.12.2)\n",
            "Requirement already satisfied: charset-normalizer<4,>=2 in /usr/local/lib/python3.10/dist-packages (from requests<3.0.0,>=2.13.0->spacy<3.8.0,>=3.7.2->en-core-web-sm==3.7.1) (3.3.2)\n",
            "Requirement already satisfied: idna<4,>=2.5 in /usr/local/lib/python3.10/dist-packages (from requests<3.0.0,>=2.13.0->spacy<3.8.0,>=3.7.2->en-core-web-sm==3.7.1) (3.10)\n",
            "Requirement already satisfied: urllib3<3,>=1.21.1 in /usr/local/lib/python3.10/dist-packages (from requests<3.0.0,>=2.13.0->spacy<3.8.0,>=3.7.2->en-core-web-sm==3.7.1) (2.2.3)\n",
            "Requirement already satisfied: certifi>=2017.4.17 in /usr/local/lib/python3.10/dist-packages (from requests<3.0.0,>=2.13.0->spacy<3.8.0,>=3.7.2->en-core-web-sm==3.7.1) (2024.8.30)\n",
            "Requirement already satisfied: blis<0.8.0,>=0.7.8 in /usr/local/lib/python3.10/dist-packages (from thinc<8.3.0,>=8.2.2->spacy<3.8.0,>=3.7.2->en-core-web-sm==3.7.1) (0.7.11)\n",
            "Requirement already satisfied: confection<1.0.0,>=0.0.1 in /usr/local/lib/python3.10/dist-packages (from thinc<8.3.0,>=8.2.2->spacy<3.8.0,>=3.7.2->en-core-web-sm==3.7.1) (0.1.5)\n",
            "Requirement already satisfied: click>=8.0.0 in /usr/local/lib/python3.10/dist-packages (from typer<1.0.0,>=0.3.0->spacy<3.8.0,>=3.7.2->en-core-web-sm==3.7.1) (8.1.7)\n",
            "Requirement already satisfied: shellingham>=1.3.0 in /usr/local/lib/python3.10/dist-packages (from typer<1.0.0,>=0.3.0->spacy<3.8.0,>=3.7.2->en-core-web-sm==3.7.1) (1.5.4)\n",
            "Requirement already satisfied: rich>=10.11.0 in /usr/local/lib/python3.10/dist-packages (from typer<1.0.0,>=0.3.0->spacy<3.8.0,>=3.7.2->en-core-web-sm==3.7.1) (13.8.1)\n",
            "Requirement already satisfied: cloudpathlib<1.0.0,>=0.7.0 in /usr/local/lib/python3.10/dist-packages (from weasel<0.5.0,>=0.1.0->spacy<3.8.0,>=3.7.2->en-core-web-sm==3.7.1) (0.19.0)\n",
            "Requirement already satisfied: smart-open<8.0.0,>=5.2.1 in /usr/local/lib/python3.10/dist-packages (from weasel<0.5.0,>=0.1.0->spacy<3.8.0,>=3.7.2->en-core-web-sm==3.7.1) (7.0.4)\n",
            "Requirement already satisfied: MarkupSafe>=2.0 in /usr/local/lib/python3.10/dist-packages (from jinja2->spacy<3.8.0,>=3.7.2->en-core-web-sm==3.7.1) (2.1.5)\n",
            "Requirement already satisfied: marisa-trie>=0.7.7 in /usr/local/lib/python3.10/dist-packages (from language-data>=1.2->langcodes<4.0.0,>=3.2.0->spacy<3.8.0,>=3.7.2->en-core-web-sm==3.7.1) (1.2.0)\n",
            "Requirement already satisfied: markdown-it-py>=2.2.0 in /usr/local/lib/python3.10/dist-packages (from rich>=10.11.0->typer<1.0.0,>=0.3.0->spacy<3.8.0,>=3.7.2->en-core-web-sm==3.7.1) (3.0.0)\n",
            "Requirement already satisfied: pygments<3.0.0,>=2.13.0 in /usr/local/lib/python3.10/dist-packages (from rich>=10.11.0->typer<1.0.0,>=0.3.0->spacy<3.8.0,>=3.7.2->en-core-web-sm==3.7.1) (2.18.0)\n",
            "Requirement already satisfied: wrapt in /usr/local/lib/python3.10/dist-packages (from smart-open<8.0.0,>=5.2.1->weasel<0.5.0,>=0.1.0->spacy<3.8.0,>=3.7.2->en-core-web-sm==3.7.1) (1.16.0)\n",
            "Requirement already satisfied: mdurl~=0.1 in /usr/local/lib/python3.10/dist-packages (from markdown-it-py>=2.2.0->rich>=10.11.0->typer<1.0.0,>=0.3.0->spacy<3.8.0,>=3.7.2->en-core-web-sm==3.7.1) (0.1.2)\n",
            "\u001b[38;5;2m✔ Download and installation successful\u001b[0m\n",
            "You can now load the package via spacy.load('en_core_web_sm')\n",
            "\u001b[38;5;3m⚠ Restart to reload dependencies\u001b[0m\n",
            "If you are in a Jupyter or Colab notebook, you may need to restart Python in\n",
            "order to load all the package's dependencies. You can do this by selecting the\n",
            "'Restart kernel' or 'Restart runtime' option.\n"
          ]
        }
      ]
    },
    {
      "cell_type": "markdown",
      "source": [
        "Algumas notícias do dataset possuem o mesmo nome, o que pode causar ambiguidades e erros de interpretação. Por causa disso, o método abaixo renomeia alguns arquivos do dataset. Para tal, é percorido cada linha do DataFrame, sendo o novo nome do arquivo correspondendo ao seu index. Dessa forma, o arquivo que está no index \"i\", será renomeado para \"i.txt\" ."
      ],
      "metadata": {
        "id": "c5Bre1mFv1om"
      }
    },
    {
      "cell_type": "code",
      "source": [
        "def rename_filenames(df):\n",
        "  for index, row in df.iterrows():\n",
        "      df.at[index, 'filename'] = f\"{index}.txt\"\n",
        "  return df\n",
        "\n",
        "df = rename_filenames(df)"
      ],
      "metadata": {
        "id": "695miMIwHLAY"
      },
      "execution_count": null,
      "outputs": []
    },
    {
      "cell_type": "markdown",
      "source": [
        "### Número de Documentos por classe"
      ],
      "metadata": {
        "id": "7ZmRnOVRyM7w"
      }
    },
    {
      "cell_type": "markdown",
      "source": [
        "Após a leitura da base de dados, será iniciado o processo de Visualização e Análise Exploratória para conhecer o dataset.\n",
        "O código abaixo gera a visualização de notícias por classe. Dessa forma, será possível observar a quantidade absoluta de notícias e se essas notícias estão balanceadas."
      ],
      "metadata": {
        "id": "yu9Xr96DyBuj"
      }
    },
    {
      "cell_type": "code",
      "source": [
        "genres = df['genre'].unique()\n",
        "\n",
        "def plot_doc_by_class(genres, dataframe):\n",
        "  ax = sns.countplot(x = 'genre', data = dataframe , color='skyblue')\n",
        "  ax.yaxis.grid(False)\n",
        "  plt.title('Documents number by class', pad=12)\n",
        "  plt.xlabel('Genres', labelpad=12)\n",
        "  plt.ylabel('Quantity', labelpad=12)\n",
        "\n",
        "  bars = ax.patches\n",
        "  # Put numbers of docs above bars\n",
        "  for bar in bars:\n",
        "        height = int(bar.get_height())\n",
        "        plt.text(bar.get_x() + bar.get_width()/2, height, height, ha='center', va='bottom')\n",
        "\n",
        "  plt.show()\n",
        "\n",
        "\n",
        "plot_doc_by_class(genres, df)"
      ],
      "metadata": {
        "colab": {
          "base_uri": "https://localhost:8080/",
          "height": 491
        },
        "id": "Nt7-8bDyxZXD",
        "outputId": "084715b4-c8e4-45b3-d257-35825296dec3"
      },
      "execution_count": null,
      "outputs": [
        {
          "output_type": "display_data",
          "data": {
            "text/plain": [
              "<Figure size 640x480 with 1 Axes>"
            ],
            "image/png": "[encoded data removed]"
          },
          "metadata": {}
        }
      ]
    },
    {
      "cell_type": "markdown",
      "source": [
        "### Criação de um dataset com quantidade de amostras reduzidas"
      ],
      "metadata": {
        "id": "abfCCSSuv73b"
      }
    },
    {
      "cell_type": "markdown",
      "source": [
        "O dataset BBC News apresenta um grande quantitativo de notícias, sendo o seu pré processamento longo para ser realizado em um aula. Por causa disso, o método a seguir reduz a quantidade de notícias.  Assim, para cada gênero de notícias é sorteado um número entre 10 e 20 para fazer parte do dataset final de notícias que será utilizado ao longo dos roteiros."
      ],
      "metadata": {
        "id": "yq5PCY87wqwZ"
      }
    },
    {
      "cell_type": "code",
      "source": [
        "# def create_balanced_small_df(df, genres, num):\n",
        "#   small_df_list = []\n",
        "#   for genre in genres:\n",
        "#     sample_rows = df.sample(num)\n",
        "#     small_df_list.append(sample_rows)\n",
        "#   return pd.concat(small_df_list).reset_index(drop=True)\n",
        "\n",
        "def create_imbalanced_small_df(df, genres, max_value):\n",
        "  small_df_list = []\n",
        "  for genre in genres:\n",
        "    qtd = random.randint(10, max_value)\n",
        "    sample_rows = df[df['genre'] == genre].sample(qtd)\n",
        "    small_df_list.append(sample_rows)\n",
        "  return pd.concat(small_df_list).reset_index(drop=True)"
      ],
      "metadata": {
        "id": "zO62d6OVHOWW"
      },
      "execution_count": null,
      "outputs": []
    },
    {
      "cell_type": "code",
      "source": [
        "genres = df['genre'].unique()\n",
        "small_df = create_imbalanced_small_df(df, genres, max_value=20)\n",
        "small_df"
      ],
      "metadata": {
        "id": "DnD-xIPdHRNm",
        "colab": {
          "base_uri": "https://localhost:8080/",
          "height": 423
        },
        "outputId": "5e72e980-9af8-451c-c250-2d2b85d88c19",
        "collapsed": true
      },
      "execution_count": null,
      "outputs": [
        {
          "output_type": "execute_result",
          "data": {
            "text/plain": [
              "       genre  filename                              title  \\\n",
              "0   business   191.txt   Yukos bankruptcy 'not US matter'   \n",
              "1   business   195.txt    Worldcom director ends evidence   \n",
              "2   business     5.txt   Japan narrowly escapes recession   \n",
              "3   business   476.txt  JP Morgan admits US slavery links   \n",
              "4   business   327.txt     Bush to get 'tough' on deficit   \n",
              "..       ...       ...                                ...   \n",
              "73      tech  1915.txt    Norway upholds 'Napster' ruling   \n",
              "74      tech  1978.txt   Games win for Blu-ray DVD format   \n",
              "75      tech  2139.txt    More women turn to net security   \n",
              "76      tech  1842.txt   Intel unveils laser breakthrough   \n",
              "77      tech  1897.txt     China 'to overtake US net use'   \n",
              "\n",
              "                                              content  \n",
              "0    Russian authorities do not have to abide by a...  \n",
              "1    The former chief financial officer at US tele...  \n",
              "2    Japan's economy teetered on the brink of a te...  \n",
              "3    Thousands of slaves were accepted as collater...  \n",
              "4    US president George W Bush has pledged to int...  \n",
              "..                                                ...  \n",
              "73   A Norwegian student who ran a website which l...  \n",
              "74   The next-generation DVD format Blu-ray is win...  \n",
              "75   Older people and women are increasingly takin...  \n",
              "76   Intel has unveiled research that could mean d...  \n",
              "77   The Chinese net-using population looks set to...  \n",
              "\n",
              "[78 rows x 4 columns]"
            ],
            "text/html": [
              "\n",
              "  <div id=\"df-d5090826-62d9-4764-be36-541422227381\" class=\"colab-df-container\">\n",
              "    <div>\n",
              "<style scoped>\n",
              "    .dataframe tbody tr th:only-of-type {\n",
              "        vertical-align: middle;\n",
              "    }\n",
              "\n",
              "    .dataframe tbody tr th {\n",
              "        vertical-align: top;\n",
              "    }\n",
              "\n",
              "    .dataframe thead th {\n",
              "        text-align: right;\n",
              "    }\n",
              "</style>\n",
              "<table border=\"1\" class=\"dataframe\">\n",
              "  <thead>\n",
              "    <tr style=\"text-align: right;\">\n",
              "      <th></th>\n",
              "      <th>genre</th>\n",
              "      <th>filename</th>\n",
              "      <th>title</th>\n",
              "      <th>content</th>\n",
              "    </tr>\n",
              "  </thead>\n",
              "  <tbody>\n",
              "    <tr>\n",
              "      <th>0</th>\n",
              "      <td>business</td>\n",
              "      <td>191.txt</td>\n",
              "      <td>Yukos bankruptcy 'not US matter'</td>\n",
              "      <td>Russian authorities do not have to abide by a...</td>\n",
              "    </tr>\n",
              "    <tr>\n",
              "      <th>1</th>\n",
              "      <td>business</td>\n",
              "      <td>195.txt</td>\n",
              "      <td>Worldcom director ends evidence</td>\n",
              "      <td>The former chief financial officer at US tele...</td>\n",
              "    </tr>\n",
              "    <tr>\n",
              "      <th>2</th>\n",
              "      <td>business</td>\n",
              "      <td>5.txt</td>\n",
              "      <td>Japan narrowly escapes recession</td>\n",
              "      <td>Japan's economy teetered on the brink of a te...</td>\n",
              "    </tr>\n",
              "    <tr>\n",
              "      <th>3</th>\n",
              "      <td>business</td>\n",
              "      <td>476.txt</td>\n",
              "      <td>JP Morgan admits US slavery links</td>\n",
              "      <td>Thousands of slaves were accepted as collater...</td>\n",
              "    </tr>\n",
              "    <tr>\n",
              "      <th>4</th>\n",
              "      <td>business</td>\n",
              "      <td>327.txt</td>\n",
              "      <td>Bush to get 'tough' on deficit</td>\n",
              "      <td>US president George W Bush has pledged to int...</td>\n",
              "    </tr>\n",
              "    <tr>\n",
              "      <th>...</th>\n",
              "      <td>...</td>\n",
              "      <td>...</td>\n",
              "      <td>...</td>\n",
              "      <td>...</td>\n",
              "    </tr>\n",
              "    <tr>\n",
              "      <th>73</th>\n",
              "      <td>tech</td>\n",
              "      <td>1915.txt</td>\n",
              "      <td>Norway upholds 'Napster' ruling</td>\n",
              "      <td>A Norwegian student who ran a website which l...</td>\n",
              "    </tr>\n",
              "    <tr>\n",
              "      <th>74</th>\n",
              "      <td>tech</td>\n",
              "      <td>1978.txt</td>\n",
              "      <td>Games win for Blu-ray DVD format</td>\n",
              "      <td>The next-generation DVD format Blu-ray is win...</td>\n",
              "    </tr>\n",
              "    <tr>\n",
              "      <th>75</th>\n",
              "      <td>tech</td>\n",
              "      <td>2139.txt</td>\n",
              "      <td>More women turn to net security</td>\n",
              "      <td>Older people and women are increasingly takin...</td>\n",
              "    </tr>\n",
              "    <tr>\n",
              "      <th>76</th>\n",
              "      <td>tech</td>\n",
              "      <td>1842.txt</td>\n",
              "      <td>Intel unveils laser breakthrough</td>\n",
              "      <td>Intel has unveiled research that could mean d...</td>\n",
              "    </tr>\n",
              "    <tr>\n",
              "      <th>77</th>\n",
              "      <td>tech</td>\n",
              "      <td>1897.txt</td>\n",
              "      <td>China 'to overtake US net use'</td>\n",
              "      <td>The Chinese net-using population looks set to...</td>\n",
              "    </tr>\n",
              "  </tbody>\n",
              "</table>\n",
              "<p>78 rows × 4 columns</p>\n",
              "</div>\n",
              "    <div class=\"colab-df-buttons\">\n",
              "\n",
              "  <div class=\"colab-df-container\">\n",
              "    <button class=\"colab-df-convert\" onclick=\"convertToInteractive('df-d5090826-62d9-4764-be36-541422227381')\"\n",
              "            title=\"Convert this dataframe to an interactive table.\"\n",
              "            style=\"display:none;\">\n",
              "\n",
              "  <svg xmlns=\"http://www.w3.org/2000/svg\" height=\"24px\" viewBox=\"0 -960 960 960\">\n",
              "    <path d=\"M120-120v-720h720v720H120Zm60-500h600v-160H180v160Zm220 220h160v-160H400v160Zm0 220h160v-160H400v160ZM180-400h160v-160H180v160Zm440 0h160v-160H620v160ZM180-180h160v-160H180v160Zm440 0h160v-160H620v160Z\"/>\n",
              "  </svg>\n",
              "    </button>\n",
              "\n",
              "  <style>\n",
              "    .colab-df-container {\n",
              "      display:flex;\n",
              "      gap: 12px;\n",
              "    }\n",
              "\n",
              "    .colab-df-convert {\n",
              "      background-color: #E8F0FE;\n",
              "      border: none;\n",
              "      border-radius: 50%;\n",
              "      cursor: pointer;\n",
              "      display: none;\n",
              "      fill: #1967D2;\n",
              "      height: 32px;\n",
              "      padding: 0 0 0 0;\n",
              "      width: 32px;\n",
              "    }\n",
              "\n",
              "    .colab-df-convert:hover {\n",
              "      background-color: #E2EBFA;\n",
              "      box-shadow: 0px 1px 2px rgba(60, 64, 67, 0.3), 0px 1px 3px 1px rgba(60, 64, 67, 0.15);\n",
              "      fill: #174EA6;\n",
              "    }\n",
              "\n",
              "    .colab-df-buttons div {\n",
              "      margin-bottom: 4px;\n",
              "    }\n",
              "\n",
              "    [theme=dark] .colab-df-convert {\n",
              "      background-color: #3B4455;\n",
              "      fill: #D2E3FC;\n",
              "    }\n",
              "\n",
              "    [theme=dark] .colab-df-convert:hover {\n",
              "      background-color: #434B5C;\n",
              "      box-shadow: 0px 1px 3px 1px rgba(0, 0, 0, 0.15);\n",
              "      filter: drop-shadow(0px 1px 2px rgba(0, 0, 0, 0.3));\n",
              "      fill: #FFFFFF;\n",
              "    }\n",
              "  </style>\n",
              "\n",
              "    <script>\n",
              "      const buttonEl =\n",
              "        document.querySelector('#df-d5090826-62d9-4764-be36-541422227381 button.colab-df-convert');\n",
              "      buttonEl.style.display =\n",
              "        google.colab.kernel.accessAllowed ? 'block' : 'none';\n",
              "\n",
              "      async function convertToInteractive(key) {\n",
              "        const element = document.querySelector('#df-d5090826-62d9-4764-be36-541422227381');\n",
              "        const dataTable =\n",
              "          await google.colab.kernel.invokeFunction('convertToInteractive',\n",
              "                                                    [key], {});\n",
              "        if (!dataTable) return;\n",
              "\n",
              "        const docLinkHtml = 'Like what you see? Visit the ' +\n",
              "          '<a target=\"_blank\" href=https://colab.research.google.com/notebooks/data_table.ipynb>data table notebook</a>'\n",
              "          + ' to learn more about interactive tables.';\n",
              "        element.innerHTML = '';\n",
              "        dataTable['output_type'] = 'display_data';\n",
              "        await google.colab.output.renderOutput(dataTable, element);\n",
              "        const docLink = document.createElement('div');\n",
              "        docLink.innerHTML = docLinkHtml;\n",
              "        element.appendChild(docLink);\n",
              "      }\n",
              "    </script>\n",
              "  </div>\n",
              "\n",
              "\n",
              "<div id=\"df-a37807dc-5bbf-4142-9a34-215d45d6db92\">\n",
              "  <button class=\"colab-df-quickchart\" onclick=\"quickchart('df-a37807dc-5bbf-4142-9a34-215d45d6db92')\"\n",
              "            title=\"Suggest charts\"\n",
              "            style=\"display:none;\">\n",
              "\n",
              "<svg xmlns=\"http://www.w3.org/2000/svg\" height=\"24px\"viewBox=\"0 0 24 24\"\n",
              "     width=\"24px\">\n",
              "    <g>\n",
              "        <path d=\"M19 3H5c-1.1 0-2 .9-2 2v14c0 1.1.9 2 2 2h14c1.1 0 2-.9 2-2V5c0-1.1-.9-2-2-2zM9 17H7v-7h2v7zm4 0h-2V7h2v10zm4 0h-2v-4h2v4z\"/>\n",
              "    </g>\n",
              "</svg>\n",
              "  </button>\n",
              "\n",
              "<style>\n",
              "  .colab-df-quickchart {\n",
              "      --bg-color: #E8F0FE;\n",
              "      --fill-color: #1967D2;\n",
              "      --hover-bg-color: #E2EBFA;\n",
              "      --hover-fill-color: #174EA6;\n",
              "      --disabled-fill-color: #AAA;\n",
              "      --disabled-bg-color: #DDD;\n",
              "  }\n",
              "\n",
              "  [theme=dark] .colab-df-quickchart {\n",
              "      --bg-color: #3B4455;\n",
              "      --fill-color: #D2E3FC;\n",
              "      --hover-bg-color: #434B5C;\n",
              "      --hover-fill-color: #FFFFFF;\n",
              "      --disabled-bg-color: #3B4455;\n",
              "      --disabled-fill-color: #666;\n",
              "  }\n",
              "\n",
              "  .colab-df-quickchart {\n",
              "    background-color: var(--bg-color);\n",
              "    border: none;\n",
              "    border-radius: 50%;\n",
              "    cursor: pointer;\n",
              "    display: none;\n",
              "    fill: var(--fill-color);\n",
              "    height: 32px;\n",
              "    padding: 0;\n",
              "    width: 32px;\n",
              "  }\n",
              "\n",
              "  .colab-df-quickchart:hover {\n",
              "    background-color: var(--hover-bg-color);\n",
              "    box-shadow: 0 1px 2px rgba(60, 64, 67, 0.3), 0 1px 3px 1px rgba(60, 64, 67, 0.15);\n",
              "    fill: var(--button-hover-fill-color);\n",
              "  }\n",
              "\n",
              "  .colab-df-quickchart-complete:disabled,\n",
              "  .colab-df-quickchart-complete:disabled:hover {\n",
              "    background-color: var(--disabled-bg-color);\n",
              "    fill: var(--disabled-fill-color);\n",
              "    box-shadow: none;\n",
              "  }\n",
              "\n",
              "  .colab-df-spinner {\n",
              "    border: 2px solid var(--fill-color);\n",
              "    border-color: transparent;\n",
              "    border-bottom-color: var(--fill-color);\n",
              "    animation:\n",
              "      spin 1s steps(1) infinite;\n",
              "  }\n",
              "\n",
              "  @keyframes spin {\n",
              "    0% {\n",
              "      border-color: transparent;\n",
              "      border-bottom-color: var(--fill-color);\n",
              "      border-left-color: var(--fill-color);\n",
              "    }\n",
              "    20% {\n",
              "      border-color: transparent;\n",
              "      border-left-color: var(--fill-color);\n",
              "      border-top-color: var(--fill-color);\n",
              "    }\n",
              "    30% {\n",
              "      border-color: transparent;\n",
              "      border-left-color: var(--fill-color);\n",
              "      border-top-color: var(--fill-color);\n",
              "      border-right-color: var(--fill-color);\n",
              "    }\n",
              "    40% {\n",
              "      border-color: transparent;\n",
              "      border-right-color: var(--fill-color);\n",
              "      border-top-color: var(--fill-color);\n",
              "    }\n",
              "    60% {\n",
              "      border-color: transparent;\n",
              "      border-right-color: var(--fill-color);\n",
              "    }\n",
              "    80% {\n",
              "      border-color: transparent;\n",
              "      border-right-color: var(--fill-color);\n",
              "      border-bottom-color: var(--fill-color);\n",
              "    }\n",
              "    90% {\n",
              "      border-color: transparent;\n",
              "      border-bottom-color: var(--fill-color);\n",
              "    }\n",
              "  }\n",
              "</style>\n",
              "\n",
              "  <script>\n",
              "    async function quickchart(key) {\n",
              "      const quickchartButtonEl =\n",
              "        document.querySelector('#' + key + ' button');\n",
              "      quickchartButtonEl.disabled = true;  // To prevent multiple clicks.\n",
              "      quickchartButtonEl.classList.add('colab-df-spinner');\n",
              "      try {\n",
              "        const charts = await google.colab.kernel.invokeFunction(\n",
              "            'suggestCharts', [key], {});\n",
              "      } catch (error) {\n",
              "        console.error('Error during call to suggestCharts:', error);\n",
              "      }\n",
              "      quickchartButtonEl.classList.remove('colab-df-spinner');\n",
              "      quickchartButtonEl.classList.add('colab-df-quickchart-complete');\n",
              "    }\n",
              "    (() => {\n",
              "      let quickchartButtonEl =\n",
              "        document.querySelector('#df-a37807dc-5bbf-4142-9a34-215d45d6db92 button');\n",
              "      quickchartButtonEl.style.display =\n",
              "        google.colab.kernel.accessAllowed ? 'block' : 'none';\n",
              "    })();\n",
              "  </script>\n",
              "</div>\n",
              "\n",
              "  <div id=\"id_787ceb20-e553-4113-b49b-de81368b7062\">\n",
              "    <style>\n",
              "      .colab-df-generate {\n",
              "        background-color: #E8F0FE;\n",
              "        border: none;\n",
              "        border-radius: 50%;\n",
              "        cursor: pointer;\n",
              "        display: none;\n",
              "        fill: #1967D2;\n",
              "        height: 32px;\n",
              "        padding: 0 0 0 0;\n",
              "        width: 32px;\n",
              "      }\n",
              "\n",
              "      .colab-df-generate:hover {\n",
              "        background-color: #E2EBFA;\n",
              "        box-shadow: 0px 1px 2px rgba(60, 64, 67, 0.3), 0px 1px 3px 1px rgba(60, 64, 67, 0.15);\n",
              "        fill: #174EA6;\n",
              "      }\n",
              "\n",
              "      [theme=dark] .colab-df-generate {\n",
              "        background-color: #3B4455;\n",
              "        fill: #D2E3FC;\n",
              "      }\n",
              "\n",
              "      [theme=dark] .colab-df-generate:hover {\n",
              "        background-color: #434B5C;\n",
              "        box-shadow: 0px 1px 3px 1px rgba(0, 0, 0, 0.15);\n",
              "        filter: drop-shadow(0px 1px 2px rgba(0, 0, 0, 0.3));\n",
              "        fill: #FFFFFF;\n",
              "      }\n",
              "    </style>\n",
              "    <button class=\"colab-df-generate\" onclick=\"generateWithVariable('small_df')\"\n",
              "            title=\"Generate code using this dataframe.\"\n",
              "            style=\"display:none;\">\n",
              "\n",
              "  <svg xmlns=\"http://www.w3.org/2000/svg\" height=\"24px\"viewBox=\"0 0 24 24\"\n",
              "       width=\"24px\">\n",
              "    <path d=\"M7,19H8.4L18.45,9,17,7.55,7,17.6ZM5,21V16.75L18.45,3.32a2,2,0,0,1,2.83,0l1.4,1.43a1.91,1.91,0,0,1,.58,1.4,1.91,1.91,0,0,1-.58,1.4L9.25,21ZM18.45,9,17,7.55Zm-12,3A5.31,5.31,0,0,0,4.9,8.1,5.31,5.31,0,0,0,1,6.5,5.31,5.31,0,0,0,4.9,4.9,5.31,5.31,0,0,0,6.5,1,5.31,5.31,0,0,0,8.1,4.9,5.31,5.31,0,0,0,12,6.5,5.46,5.46,0,0,0,6.5,12Z\"/>\n",
              "  </svg>\n",
              "    </button>\n",
              "    <script>\n",
              "      (() => {\n",
              "      const buttonEl =\n",
              "        document.querySelector('#id_787ceb20-e553-4113-b49b-de81368b7062 button.colab-df-generate');\n",
              "      buttonEl.style.display =\n",
              "        google.colab.kernel.accessAllowed ? 'block' : 'none';\n",
              "\n",
              "      buttonEl.onclick = () => {\n",
              "        google.colab.notebook.generateWithVariable('small_df');\n",
              "      }\n",
              "      })();\n",
              "    </script>\n",
              "  </div>\n",
              "\n",
              "    </div>\n",
              "  </div>\n"
            ],
            "application/vnd.google.colaboratory.intrinsic+json": {
              "type": "dataframe",
              "variable_name": "small_df",
              "summary": "{\n  \"name\": \"small_df\",\n  \"rows\": 78,\n  \"fields\": [\n    {\n      \"column\": \"genre\",\n      \"properties\": {\n        \"dtype\": \"category\",\n        \"num_unique_values\": 5,\n        \"samples\": [\n          \"entertainment\",\n          \"tech\",\n          \"politics\"\n        ],\n        \"semantic_type\": \"\",\n        \"description\": \"\"\n      }\n    },\n    {\n      \"column\": \"filename\",\n      \"properties\": {\n        \"dtype\": \"string\",\n        \"num_unique_values\": 78,\n        \"samples\": [\n          \"1258.txt\",\n          \"191.txt\",\n          \"1217.txt\"\n        ],\n        \"semantic_type\": \"\",\n        \"description\": \"\"\n      }\n    },\n    {\n      \"column\": \"title\",\n      \"properties\": {\n        \"dtype\": \"string\",\n        \"num_unique_values\": 77,\n        \"samples\": [\n          \"Bush to get 'tough' on deficit\",\n          \"Blair rejects Tory terror offer\",\n          \"Ford gains from finance not cars\"\n        ],\n        \"semantic_type\": \"\",\n        \"description\": \"\"\n      }\n    },\n    {\n      \"column\": \"content\",\n      \"properties\": {\n        \"dtype\": \"string\",\n        \"num_unique_values\": 77,\n        \"samples\": [\n          \" US president George W Bush has pledged to introduce a \\\"tough\\\" federal budget next February in a bid to halve the country's deficit in five years.  The US budget and its trade deficit are both deep in the red, helping to push the dollar to lows against the euro and fuelling fears about the economy. Mr Bush indicated there would be \\\"strict discipline\\\" on non-defence spending in the budget. The vow to cut the deficit had been one of his re-election declarations. The federal budget deficit hit a record $412bn (\\u00a3211.6bn) in the 12 months to 30 September and $377bn in the previous year.  \\\"We will submit a budget that fits the times,\\\" Mr Bush said. \\\"It will provide every tool and resource to the military, will protect the homeland, and meet other priorities of the government.\\\" The US has said it is committed to a strong dollar. But the dollar's weakness has hit European and Asian exporters and lead to calls for US intervention to boost the currency. Mr Bush, however, has said the best way to halt the dollar's slide is to deal with the US deficit. \\\"It's a budget that I think will send the right signal to the financial markets and to those concerned about our short-term deficits,\\\" Mr Bush added. \\\"As well, we've got to deal with the long-term deficit issues.\\\" \",\n          \" Tony Blair has rejected a Conservative compromise offer that could have eased the passage of anti-terror legislation.  The Tories wanted a sunset clause inserted in the Anti-Terrorism Bill that would have forced ministers to revisit it in November. Mr Blair said the bill, which brings in house arrest for terror suspects, had time limiting safeguards already. The Tories say they will vote against it unless changes they want are agreed. The Lib Dems also oppose the plans.  The government has already given way over the role of judges in house arrest cases.  Mr Blair's refusal to accept the Tories' sunset clause proposals means that the government faces concerted opposition from all sides in the Lords. Peers begin three days of detailed deliberation on the bill on Thursday. The bill proposes \\\"control orders\\\", which as well as placing terrorism suspects under house arrest could mean curfews, tagging or bans on telephone and internet use. These would replace current powers to detain foreign terror suspects without trial, which the law lords have ruled against as a breach of human rights.  The Tories want judicial oversight of all control orders, not just house arrest. Shadow Home Secretary David Davis told BBC Radio Four's the World at One his primary concern was potential miscarriages of justice. He said if someone was wrongly given a control order it would act as a \\\"recruiting sergeant\\\" for terrorists. He went on to say: \\\"If we don't get the amendments we regard as essential, including the sunset clause, we will vote against the bill.\\\" In the Commons, Mr Howard said it would be \\\"far better if the whole of the legislation was subject to a sunset clause so Parliament could consider it all in a proper way instead of it being ramrodded through\\\". Mr Blair said the house arrest powers were already going to be subject to a sunset clause because it was annually renewable.  The second, less stringent, type of control orders would be subject to a court appeal within 14 days and there would be a three-monthly report on their use by \\\"an eminent and independent person\\\". \\\"I believe (the new powers) are a proper balance between the civil liberties of the subject and the necessary national security of this country that I will not put at risk,\\\" said Mr Blair. The Lib Dems plan to oppose the Bill in the Lords on Thursday. Lib Dem home affairs spokesman Mark Oaten said: \\\"There's a lot of talking left. I would be uneasy about supporting a very bad bill even if it was just for eight months.\\\" A spokeswoman for Human Rights Watch said it was a \\\"basic principle\\\" that people should only be punished after a fair trial. She added: \\\"Having a judge impose those punishments without a trial does not sanitise them either.\\\" \",\n          \" Ford, the US car company, reported higher fourth quarter and full-year profits on Thursday boosted by a buoyant period for its car loans unit.  Net income for 2004 was $3.5bn (\\u00a31.87bn) - up nearly $3bn from 2003 - while turnover rose $7.2bn to $170.8bn. In the fourth quarter alone Ford reported net income of $104m, compared with a loss of $793m a year ago. But its auto unit made a loss. Fourth quarter turnover was $44.7bn, compared to $45.9bn a year ago.  Though car and truck loan profits saved the day, Ford's auto unit made a pre-tax loss of $470m in the fourth quarter (compared to a profit of \\u00a313m in the year-ago period) and its US sales dipped 3.8%.  Yesterday General Motor's results also showed its finance unit was a strong contributor to profits. However, Ford is working hard to revitalise its product portfolio, unveiling the Fusion and Zephyr models at the International Motor Show in Detroit. It also brought out a number of new models in the second half of 2004. \\\"In 2004, our company gained momentum, delivering...more new products, and more innovative breakthroughs, such as the Escape Hybrid, the industry's first full-hybrid sport utility vehicle,\\\" said chairman and chief executive officer Bill Ford.\\\"  \\\"We also confronted operating challenges with our Jaguar brand and high industry marketing costs,\\\" he added. But Ford declined to provide guidance for first quarter 2005. It will do so at a presentation in New York on 26 January. In addition, the company said 2004 net income was affected by a fourth-quarter pre-tax charge taken to reduce the value of a receivable owed to Ford by Visteon, a former subsidiary. Recent new models introduced by Ford include the Ford Five Hundred and Mercury Montego sedans, the Ford Freestyle crossover, the Ford Mustang, the Land Rover LR3/Discovery, and Volvo S40 and V50 in North America and Europe. Total company vehicle unit sales in 2004 were 6,798,000, an increase of 62,000 units from 2003. Fourth-quarter vehicle unit sales totalled 1,751,000, a decline of 133,000 units. For the full year, Ford's worldwide automotive division earned a pre-tax profit of $850m, a $697m improvement from $153m a year ago. \"\n        ],\n        \"semantic_type\": \"\",\n        \"description\": \"\"\n      }\n    }\n  ]\n}"
            }
          },
          "metadata": {},
          "execution_count": 60
        }
      ]
    },
    {
      "cell_type": "markdown",
      "source": [
        "### Métodos de pré processamento"
      ],
      "metadata": {
        "id": "rEe72UyLwHxr"
      }
    },
    {
      "cell_type": "markdown",
      "source": [
        "A partir de agora, será apresentado como realizar diferentes pré-processamentos em dados textuais."
      ],
      "metadata": {
        "id": "L5YTPZ006MJj"
      }
    },
    {
      "cell_type": "markdown",
      "source": [
        "O método abaixo realiza a remoção de caracteres não alfanuméricos. Para isso, cada caracterere das notícias é percorrido. Caso o caractere não seja alfanumérico, o mesmo é substituído por um caractere de espaço."
      ],
      "metadata": {
        "id": "9TIkcxhd0T-4"
      }
    },
    {
      "cell_type": "code",
      "source": [
        "def remove_non_alphanumeric(text):\n",
        "    words = ''\n",
        "    for w in text:\n",
        "        words += w if w.isalnum() else ' '\n",
        "    return words"
      ],
      "metadata": {
        "id": "uVX8L9V00VVk"
      },
      "execution_count": null,
      "outputs": []
    },
    {
      "cell_type": "markdown",
      "source": [
        "Observe abaixo a primeira notícia do DataFrame."
      ],
      "metadata": {
        "id": "o1X4BQ9T7Iuy"
      }
    },
    {
      "cell_type": "code",
      "source": [
        "content = small_df['content'][0]\n",
        "content"
      ],
      "metadata": {
        "colab": {
          "base_uri": "https://localhost:8080/",
          "height": 147
        },
        "id": "OUZMzRa37U9p",
        "outputId": "165b2d45-8971-4d15-bec7-c96214c79845"
      },
      "execution_count": null,
      "outputs": [
        {
          "output_type": "execute_result",
          "data": {
            "text/plain": [
              "' Russian authorities do not have to abide by any US court decisions taken with regard to troubled oil giant Yukos, a Houston court has been told.  Legal expert William Butler said there was no treaty between the US and Russia to recognise the other\\'s legal rulings. That meant Moscow would not have to adhere to US rulings in the Yukos case. Yukos says a US court was entitled to declare it bankrupt before its Yugansk unit was sold, since it has a US subsidiary and local bank accounts.  Yukos made its surprise Chapter 11 bankruptcy filing in Houston in December in an unsuccessful attempt to halt the auction of Yugansk, its main oil producing unit, by Russian authorities. Yugansk was sold to help pay off a $27.5bn (£14.5bn) back tax bill. It was bought for $9.4bn by a previously unknown group, which was in turn bought by state-controlled oil company Rosneft. The US court\\'s jurisdiction has been challenged by Deutsche Bank and Gazpromneft, a former unit of Russian gas monopoly Gazprom which is due to merge with Rosneft. Deutsche Bank maintains the case has no place in a US court because Yukos has no assets in the US, apart from two bank accounts and a house in Houston owned by its chief finance officer Bruce Misamore. Deutsche Bank is involved in the case because it is itself being sued by Yukos. It had agreed to loan Gazpromneft the money to bid for Yugansk. US bankruptcy judge Letitia Clark, who issued an injunction in December to try and prevent the Yugansk sale, has said she will rule \"pretty promptly, however I do not anticipate ruling on it before next Tuesday\".  Yukos has claimed it sought help in the US because other forums - Russian courts and the European Court of Human Rights - were either unfriendly or offered less protection. It has claimed that Russia imposed the huge tax bill and forced the sale of Yugansk as part of a campaign to destroy Yukos and its former owner Mihkail Khodorkovsky, who is facing a 10-year prison term in Russia for fraud and tax evasion. Yukos\\' parent company, the Gibraltar-based Menatep Group, is suing Russia in Europe for $28.3bn in financial damages. The company is also seeking $20bn in a separate US lawsuit against Rosneft and Gazprom for their role in the sale of Yugansk. '"
            ],
            "application/vnd.google.colaboratory.intrinsic+json": {
              "type": "string"
            }
          },
          "metadata": {},
          "execution_count": 62
        }
      ]
    },
    {
      "cell_type": "markdown",
      "source": [
        "Observe o conteúdo da notícia após a chamada do método de remoção de caracteres não alfanuméricos. Note como os caracteres de ponto, vírgula, parênteses, entre outros, foram removidos."
      ],
      "metadata": {
        "id": "ByjZBspM7tF1"
      }
    },
    {
      "cell_type": "code",
      "source": [
        "content = remove_non_alphanumeric(content)\n",
        "content"
      ],
      "metadata": {
        "colab": {
          "base_uri": "https://localhost:8080/",
          "height": 147
        },
        "id": "fGPaLvY963Yr",
        "outputId": "e4a724fb-9539-4d0b-d700-e3b3ee07396d"
      },
      "execution_count": null,
      "outputs": [
        {
          "output_type": "execute_result",
          "data": {
            "text/plain": [
              "' Russian authorities do not have to abide by any US court decisions taken with regard to troubled oil giant Yukos  a Houston court has been told   Legal expert William Butler said there was no treaty between the US and Russia to recognise the other s legal rulings  That meant Moscow would not have to adhere to US rulings in the Yukos case  Yukos says a US court was entitled to declare it bankrupt before its Yugansk unit was sold  since it has a US subsidiary and local bank accounts   Yukos made its surprise Chapter 11 bankruptcy filing in Houston in December in an unsuccessful attempt to halt the auction of Yugansk  its main oil producing unit  by Russian authorities  Yugansk was sold to help pay off a  27 5bn   14 5bn  back tax bill  It was bought for  9 4bn by a previously unknown group  which was in turn bought by state controlled oil company Rosneft  The US court s jurisdiction has been challenged by Deutsche Bank and Gazpromneft  a former unit of Russian gas monopoly Gazprom which is due to merge with Rosneft  Deutsche Bank maintains the case has no place in a US court because Yukos has no assets in the US  apart from two bank accounts and a house in Houston owned by its chief finance officer Bruce Misamore  Deutsche Bank is involved in the case because it is itself being sued by Yukos  It had agreed to loan Gazpromneft the money to bid for Yugansk  US bankruptcy judge Letitia Clark  who issued an injunction in December to try and prevent the Yugansk sale  has said she will rule  pretty promptly  however I do not anticipate ruling on it before next Tuesday    Yukos has claimed it sought help in the US because other forums   Russian courts and the European Court of Human Rights   were either unfriendly or offered less protection  It has claimed that Russia imposed the huge tax bill and forced the sale of Yugansk as part of a campaign to destroy Yukos and its former owner Mihkail Khodorkovsky  who is facing a 10 year prison term in Russia for fraud and tax evasion  Yukos  parent company  the Gibraltar based Menatep Group  is suing Russia in Europe for  28 3bn in financial damages  The company is also seeking  20bn in a separate US lawsuit against Rosneft and Gazprom for their role in the sale of Yugansk  '"
            ],
            "application/vnd.google.colaboratory.intrinsic+json": {
              "type": "string"
            }
          },
          "metadata": {},
          "execution_count": 63
        }
      ]
    },
    {
      "cell_type": "markdown",
      "source": [
        "Observe a seguir o método do unicode para a remoção de acentos. Esse método é importante para que termos como \"água\" e \"agua\" sejam considerados o mesmo termo, o que reduz o tamanho do vocabulário e otimiza o processamento dos dados."
      ],
      "metadata": {
        "id": "fWBvVYj51EQf"
      }
    },
    {
      "cell_type": "code",
      "source": [
        "def remove_accents(text):\n",
        "  return unidecode.unidecode(text)"
      ],
      "metadata": {
        "id": "ZWFKV-RR1A77"
      },
      "execution_count": null,
      "outputs": []
    },
    {
      "cell_type": "markdown",
      "source": [
        "Abaixo é chamado o método de remoção de acentos. Observe o resultado e compare com o conteúdo da notícia anteriormente. Vale ressaltar que o idioma inglês não possui muitas acentos, então depedendo da notícia não será possível perceber o resultado. Caso deseje, rode o código para palavras como \"café\", \"pelé\", entre outras palavras acentuadas."
      ],
      "metadata": {
        "id": "yZzUFkOY6z6f"
      }
    },
    {
      "cell_type": "code",
      "source": [
        "content = remove_accents(content)\n",
        "content"
      ],
      "metadata": {
        "colab": {
          "base_uri": "https://localhost:8080/",
          "height": 147
        },
        "id": "XMSDWYpW8m-N",
        "outputId": "ab10c113-06ac-411a-bb1e-4bf13319b2e4"
      },
      "execution_count": null,
      "outputs": [
        {
          "output_type": "execute_result",
          "data": {
            "text/plain": [
              "' Russian authorities do not have to abide by any US court decisions taken with regard to troubled oil giant Yukos  a Houston court has been told   Legal expert William Butler said there was no treaty between the US and Russia to recognise the other s legal rulings  That meant Moscow would not have to adhere to US rulings in the Yukos case  Yukos says a US court was entitled to declare it bankrupt before its Yugansk unit was sold  since it has a US subsidiary and local bank accounts   Yukos made its surprise Chapter 11 bankruptcy filing in Houston in December in an unsuccessful attempt to halt the auction of Yugansk  its main oil producing unit  by Russian authorities  Yugansk was sold to help pay off a  27 5bn   14 5bn  back tax bill  It was bought for  9 4bn by a previously unknown group  which was in turn bought by state controlled oil company Rosneft  The US court s jurisdiction has been challenged by Deutsche Bank and Gazpromneft  a former unit of Russian gas monopoly Gazprom which is due to merge with Rosneft  Deutsche Bank maintains the case has no place in a US court because Yukos has no assets in the US  apart from two bank accounts and a house in Houston owned by its chief finance officer Bruce Misamore  Deutsche Bank is involved in the case because it is itself being sued by Yukos  It had agreed to loan Gazpromneft the money to bid for Yugansk  US bankruptcy judge Letitia Clark  who issued an injunction in December to try and prevent the Yugansk sale  has said she will rule  pretty promptly  however I do not anticipate ruling on it before next Tuesday    Yukos has claimed it sought help in the US because other forums   Russian courts and the European Court of Human Rights   were either unfriendly or offered less protection  It has claimed that Russia imposed the huge tax bill and forced the sale of Yugansk as part of a campaign to destroy Yukos and its former owner Mihkail Khodorkovsky  who is facing a 10 year prison term in Russia for fraud and tax evasion  Yukos  parent company  the Gibraltar based Menatep Group  is suing Russia in Europe for  28 3bn in financial damages  The company is also seeking  20bn in a separate US lawsuit against Rosneft and Gazprom for their role in the sale of Yugansk  '"
            ],
            "application/vnd.google.colaboratory.intrinsic+json": {
              "type": "string"
            }
          },
          "metadata": {},
          "execution_count": 65
        }
      ]
    },
    {
      "cell_type": "markdown",
      "source": [
        "Exemplo de texto em português com acentos para verificar a remoção de acentos."
      ],
      "metadata": {
        "id": "9N40R58n-6L5"
      }
    },
    {
      "cell_type": "code",
      "source": [
        "text_exemple = \"minha terra tem palmeiras onde canta o sabiá as aves que aqui gorjeiam não gorjeiam como lá\"\n",
        "text_exemple = remove_accents(text_exemple)\n",
        "text_exemple"
      ],
      "metadata": {
        "colab": {
          "base_uri": "https://localhost:8080/",
          "height": 36
        },
        "id": "aeBJIhm_90Gp",
        "outputId": "1971479e-10cc-4668-9c64-3ececc5abc13"
      },
      "execution_count": null,
      "outputs": [
        {
          "output_type": "execute_result",
          "data": {
            "text/plain": [
              "'minha terra tem palmeiras onde canta o sabia as aves que aqui gorjeiam nao gorjeiam como la'"
            ],
            "application/vnd.google.colaboratory.intrinsic+json": {
              "type": "string"
            }
          },
          "metadata": {},
          "execution_count": 66
        }
      ]
    },
    {
      "cell_type": "markdown",
      "source": [
        "Para tokenizar as notícias, foi utilizada uma função pronta da biblioteca \"nltk\". Note o resultado após a chamada do método."
      ],
      "metadata": {
        "id": "wqgWn-KTF3bZ"
      }
    },
    {
      "cell_type": "code",
      "source": [
        "content = word_tokenize(content)\n",
        "print(content)"
      ],
      "metadata": {
        "colab": {
          "base_uri": "https://localhost:8080/"
        },
        "id": "-Z2z6vFMFX25",
        "outputId": "b4e2b4b7-27f3-4a3e-8970-70afcff68fdb"
      },
      "execution_count": null,
      "outputs": [
        {
          "output_type": "stream",
          "name": "stdout",
          "text": [
            "['Russian', 'authorities', 'do', 'not', 'have', 'to', 'abide', 'by', 'any', 'US', 'court', 'decisions', 'taken', 'with', 'regard', 'to', 'troubled', 'oil', 'giant', 'Yukos', 'a', 'Houston', 'court', 'has', 'been', 'told', 'Legal', 'expert', 'William', 'Butler', 'said', 'there', 'was', 'no', 'treaty', 'between', 'the', 'US', 'and', 'Russia', 'to', 'recognise', 'the', 'other', 's', 'legal', 'rulings', 'That', 'meant', 'Moscow', 'would', 'not', 'have', 'to', 'adhere', 'to', 'US', 'rulings', 'in', 'the', 'Yukos', 'case', 'Yukos', 'says', 'a', 'US', 'court', 'was', 'entitled', 'to', 'declare', 'it', 'bankrupt', 'before', 'its', 'Yugansk', 'unit', 'was', 'sold', 'since', 'it', 'has', 'a', 'US', 'subsidiary', 'and', 'local', 'bank', 'accounts', 'Yukos', 'made', 'its', 'surprise', 'Chapter', '11', 'bankruptcy', 'filing', 'in', 'Houston', 'in', 'December', 'in', 'an', 'unsuccessful', 'attempt', 'to', 'halt', 'the', 'auction', 'of', 'Yugansk', 'its', 'main', 'oil', 'producing', 'unit', 'by', 'Russian', 'authorities', 'Yugansk', 'was', 'sold', 'to', 'help', 'pay', 'off', 'a', '27', '5bn', '14', '5bn', 'back', 'tax', 'bill', 'It', 'was', 'bought', 'for', '9', '4bn', 'by', 'a', 'previously', 'unknown', 'group', 'which', 'was', 'in', 'turn', 'bought', 'by', 'state', 'controlled', 'oil', 'company', 'Rosneft', 'The', 'US', 'court', 's', 'jurisdiction', 'has', 'been', 'challenged', 'by', 'Deutsche', 'Bank', 'and', 'Gazpromneft', 'a', 'former', 'unit', 'of', 'Russian', 'gas', 'monopoly', 'Gazprom', 'which', 'is', 'due', 'to', 'merge', 'with', 'Rosneft', 'Deutsche', 'Bank', 'maintains', 'the', 'case', 'has', 'no', 'place', 'in', 'a', 'US', 'court', 'because', 'Yukos', 'has', 'no', 'assets', 'in', 'the', 'US', 'apart', 'from', 'two', 'bank', 'accounts', 'and', 'a', 'house', 'in', 'Houston', 'owned', 'by', 'its', 'chief', 'finance', 'officer', 'Bruce', 'Misamore', 'Deutsche', 'Bank', 'is', 'involved', 'in', 'the', 'case', 'because', 'it', 'is', 'itself', 'being', 'sued', 'by', 'Yukos', 'It', 'had', 'agreed', 'to', 'loan', 'Gazpromneft', 'the', 'money', 'to', 'bid', 'for', 'Yugansk', 'US', 'bankruptcy', 'judge', 'Letitia', 'Clark', 'who', 'issued', 'an', 'injunction', 'in', 'December', 'to', 'try', 'and', 'prevent', 'the', 'Yugansk', 'sale', 'has', 'said', 'she', 'will', 'rule', 'pretty', 'promptly', 'however', 'I', 'do', 'not', 'anticipate', 'ruling', 'on', 'it', 'before', 'next', 'Tuesday', 'Yukos', 'has', 'claimed', 'it', 'sought', 'help', 'in', 'the', 'US', 'because', 'other', 'forums', 'Russian', 'courts', 'and', 'the', 'European', 'Court', 'of', 'Human', 'Rights', 'were', 'either', 'unfriendly', 'or', 'offered', 'less', 'protection', 'It', 'has', 'claimed', 'that', 'Russia', 'imposed', 'the', 'huge', 'tax', 'bill', 'and', 'forced', 'the', 'sale', 'of', 'Yugansk', 'as', 'part', 'of', 'a', 'campaign', 'to', 'destroy', 'Yukos', 'and', 'its', 'former', 'owner', 'Mihkail', 'Khodorkovsky', 'who', 'is', 'facing', 'a', '10', 'year', 'prison', 'term', 'in', 'Russia', 'for', 'fraud', 'and', 'tax', 'evasion', 'Yukos', 'parent', 'company', 'the', 'Gibraltar', 'based', 'Menatep', 'Group', 'is', 'suing', 'Russia', 'in', 'Europe', 'for', '28', '3bn', 'in', 'financial', 'damages', 'The', 'company', 'is', 'also', 'seeking', '20bn', 'in', 'a', 'separate', 'US', 'lawsuit', 'against', 'Rosneft', 'and', 'Gazprom', 'for', 'their', 'role', 'in', 'the', 'sale', 'of', 'Yugansk']\n"
          ]
        }
      ]
    },
    {
      "cell_type": "markdown",
      "source": [
        "O código abaixo realiza o lowecasing dos caracteres, isto é, todos os caracteres são transformados para minúsculo."
      ],
      "metadata": {
        "id": "TVL8bYjV1Uts"
      }
    },
    {
      "cell_type": "code",
      "source": [
        "def lowercasing(tokens):\n",
        "  tokens = [w.lower() for w in tokens]\n",
        "  return tokens"
      ],
      "metadata": {
        "id": "Whwa-0z31Se_"
      },
      "execution_count": null,
      "outputs": []
    },
    {
      "cell_type": "markdown",
      "source": [
        "Abaixo é chamado o método de lowercasing para a primeira notícia do DataFrame. Note que os caracteres foram transformadas em caracteres minúsculos."
      ],
      "metadata": {
        "id": "tq5Rz6Dl_TKX"
      }
    },
    {
      "cell_type": "code",
      "source": [
        "content = lowercasing(content)\n",
        "print(content)"
      ],
      "metadata": {
        "colab": {
          "base_uri": "https://localhost:8080/"
        },
        "collapsed": true,
        "id": "h_AwTdGM_Q_1",
        "outputId": "4bf8a56a-8370-44e4-ee49-67a2465b5da2"
      },
      "execution_count": null,
      "outputs": [
        {
          "output_type": "stream",
          "name": "stdout",
          "text": [
            "['russian', 'authorities', 'do', 'not', 'have', 'to', 'abide', 'by', 'any', 'us', 'court', 'decisions', 'taken', 'with', 'regard', 'to', 'troubled', 'oil', 'giant', 'yukos', 'a', 'houston', 'court', 'has', 'been', 'told', 'legal', 'expert', 'william', 'butler', 'said', 'there', 'was', 'no', 'treaty', 'between', 'the', 'us', 'and', 'russia', 'to', 'recognise', 'the', 'other', 's', 'legal', 'rulings', 'that', 'meant', 'moscow', 'would', 'not', 'have', 'to', 'adhere', 'to', 'us', 'rulings', 'in', 'the', 'yukos', 'case', 'yukos', 'says', 'a', 'us', 'court', 'was', 'entitled', 'to', 'declare', 'it', 'bankrupt', 'before', 'its', 'yugansk', 'unit', 'was', 'sold', 'since', 'it', 'has', 'a', 'us', 'subsidiary', 'and', 'local', 'bank', 'accounts', 'yukos', 'made', 'its', 'surprise', 'chapter', '11', 'bankruptcy', 'filing', 'in', 'houston', 'in', 'december', 'in', 'an', 'unsuccessful', 'attempt', 'to', 'halt', 'the', 'auction', 'of', 'yugansk', 'its', 'main', 'oil', 'producing', 'unit', 'by', 'russian', 'authorities', 'yugansk', 'was', 'sold', 'to', 'help', 'pay', 'off', 'a', '27', '5bn', '14', '5bn', 'back', 'tax', 'bill', 'it', 'was', 'bought', 'for', '9', '4bn', 'by', 'a', 'previously', 'unknown', 'group', 'which', 'was', 'in', 'turn', 'bought', 'by', 'state', 'controlled', 'oil', 'company', 'rosneft', 'the', 'us', 'court', 's', 'jurisdiction', 'has', 'been', 'challenged', 'by', 'deutsche', 'bank', 'and', 'gazpromneft', 'a', 'former', 'unit', 'of', 'russian', 'gas', 'monopoly', 'gazprom', 'which', 'is', 'due', 'to', 'merge', 'with', 'rosneft', 'deutsche', 'bank', 'maintains', 'the', 'case', 'has', 'no', 'place', 'in', 'a', 'us', 'court', 'because', 'yukos', 'has', 'no', 'assets', 'in', 'the', 'us', 'apart', 'from', 'two', 'bank', 'accounts', 'and', 'a', 'house', 'in', 'houston', 'owned', 'by', 'its', 'chief', 'finance', 'officer', 'bruce', 'misamore', 'deutsche', 'bank', 'is', 'involved', 'in', 'the', 'case', 'because', 'it', 'is', 'itself', 'being', 'sued', 'by', 'yukos', 'it', 'had', 'agreed', 'to', 'loan', 'gazpromneft', 'the', 'money', 'to', 'bid', 'for', 'yugansk', 'us', 'bankruptcy', 'judge', 'letitia', 'clark', 'who', 'issued', 'an', 'injunction', 'in', 'december', 'to', 'try', 'and', 'prevent', 'the', 'yugansk', 'sale', 'has', 'said', 'she', 'will', 'rule', 'pretty', 'promptly', 'however', 'i', 'do', 'not', 'anticipate', 'ruling', 'on', 'it', 'before', 'next', 'tuesday', 'yukos', 'has', 'claimed', 'it', 'sought', 'help', 'in', 'the', 'us', 'because', 'other', 'forums', 'russian', 'courts', 'and', 'the', 'european', 'court', 'of', 'human', 'rights', 'were', 'either', 'unfriendly', 'or', 'offered', 'less', 'protection', 'it', 'has', 'claimed', 'that', 'russia', 'imposed', 'the', 'huge', 'tax', 'bill', 'and', 'forced', 'the', 'sale', 'of', 'yugansk', 'as', 'part', 'of', 'a', 'campaign', 'to', 'destroy', 'yukos', 'and', 'its', 'former', 'owner', 'mihkail', 'khodorkovsky', 'who', 'is', 'facing', 'a', '10', 'year', 'prison', 'term', 'in', 'russia', 'for', 'fraud', 'and', 'tax', 'evasion', 'yukos', 'parent', 'company', 'the', 'gibraltar', 'based', 'menatep', 'group', 'is', 'suing', 'russia', 'in', 'europe', 'for', '28', '3bn', 'in', 'financial', 'damages', 'the', 'company', 'is', 'also', 'seeking', '20bn', 'in', 'a', 'separate', 'us', 'lawsuit', 'against', 'rosneft', 'and', 'gazprom', 'for', 'their', 'role', 'in', 'the', 'sale', 'of', 'yugansk']\n"
          ]
        }
      ]
    },
    {
      "cell_type": "markdown",
      "source": [
        "O método abaixo remove palavras que não acrescentam informação semântica no texto, mas que aparecem com frequência, as chamadas *stop words*. Note que é utilizada uma lista de stop words padrão fornecida pela biblioteca *nltk*. Assim, é percorrido cada token do texto e caso o token não seja uma stop word, o token é acrescentado na lista de tokens."
      ],
      "metadata": {
        "id": "NIbJuOSQ1xH3"
      }
    },
    {
      "cell_type": "code",
      "source": [
        "def remove_stop_words(tokens):\n",
        "  stop_words = set(stopwords.words('english')) #List of stop words in english\n",
        "  tokens = [token for token in tokens if token.lower() not in stop_words]\n",
        "  return tokens"
      ],
      "metadata": {
        "id": "iA-O1xqv1uqk"
      },
      "execution_count": null,
      "outputs": []
    },
    {
      "cell_type": "markdown",
      "source": [
        "O código abaixo chama o método de remoção de stop words para a primeira notícia do DataFrame. Observe o resultado e note que palavras como \"has\", \"will\", \"by\", entre outras foram removidas."
      ],
      "metadata": {
        "id": "aunHvVy1AHbe"
      }
    },
    {
      "cell_type": "code",
      "source": [
        "content = remove_stop_words(content)\n",
        "print(content)"
      ],
      "metadata": {
        "colab": {
          "base_uri": "https://localhost:8080/"
        },
        "collapsed": true,
        "id": "mDFPxn9AAFa9",
        "outputId": "d7890c1b-08e4-4b7f-8597-e385c4636659"
      },
      "execution_count": null,
      "outputs": [
        {
          "output_type": "stream",
          "name": "stdout",
          "text": [
            "['russian', 'authorities', 'abide', 'us', 'court', 'decisions', 'taken', 'regard', 'troubled', 'oil', 'giant', 'yukos', 'houston', 'court', 'told', 'legal', 'expert', 'william', 'butler', 'said', 'treaty', 'us', 'russia', 'recognise', 'legal', 'rulings', 'meant', 'moscow', 'would', 'adhere', 'us', 'rulings', 'yukos', 'case', 'yukos', 'says', 'us', 'court', 'entitled', 'declare', 'bankrupt', 'yugansk', 'unit', 'sold', 'since', 'us', 'subsidiary', 'local', 'bank', 'accounts', 'yukos', 'made', 'surprise', 'chapter', '11', 'bankruptcy', 'filing', 'houston', 'december', 'unsuccessful', 'attempt', 'halt', 'auction', 'yugansk', 'main', 'oil', 'producing', 'unit', 'russian', 'authorities', 'yugansk', 'sold', 'help', 'pay', '27', '5bn', '14', '5bn', 'back', 'tax', 'bill', 'bought', '9', '4bn', 'previously', 'unknown', 'group', 'turn', 'bought', 'state', 'controlled', 'oil', 'company', 'rosneft', 'us', 'court', 'jurisdiction', 'challenged', 'deutsche', 'bank', 'gazpromneft', 'former', 'unit', 'russian', 'gas', 'monopoly', 'gazprom', 'due', 'merge', 'rosneft', 'deutsche', 'bank', 'maintains', 'case', 'place', 'us', 'court', 'yukos', 'assets', 'us', 'apart', 'two', 'bank', 'accounts', 'house', 'houston', 'owned', 'chief', 'finance', 'officer', 'bruce', 'misamore', 'deutsche', 'bank', 'involved', 'case', 'sued', 'yukos', 'agreed', 'loan', 'gazpromneft', 'money', 'bid', 'yugansk', 'us', 'bankruptcy', 'judge', 'letitia', 'clark', 'issued', 'injunction', 'december', 'try', 'prevent', 'yugansk', 'sale', 'said', 'rule', 'pretty', 'promptly', 'however', 'anticipate', 'ruling', 'next', 'tuesday', 'yukos', 'claimed', 'sought', 'help', 'us', 'forums', 'russian', 'courts', 'european', 'court', 'human', 'rights', 'either', 'unfriendly', 'offered', 'less', 'protection', 'claimed', 'russia', 'imposed', 'huge', 'tax', 'bill', 'forced', 'sale', 'yugansk', 'part', 'campaign', 'destroy', 'yukos', 'former', 'owner', 'mihkail', 'khodorkovsky', 'facing', '10', 'year', 'prison', 'term', 'russia', 'fraud', 'tax', 'evasion', 'yukos', 'parent', 'company', 'gibraltar', 'based', 'menatep', 'group', 'suing', 'russia', 'europe', '28', '3bn', 'financial', 'damages', 'company', 'also', 'seeking', '20bn', 'separate', 'us', 'lawsuit', 'rosneft', 'gazprom', 'role', 'sale', 'yugansk']\n"
          ]
        }
      ]
    },
    {
      "cell_type": "markdown",
      "source": [
        "O código abaixo realiza a lematização dos tokens. Para isso, é carregado um modelo de lematizador da biblioteca *spaCy* . Em seguida, os tokens são passados como parâmetro e para cada token é adicionado seu lemma em uma lista de tokens. O lemma é acessado por meio de \"token.lemma_\", mas é possível acessar as demais informações do dicionário, como \"token.is_stop\", \"token.text\" , \"token.dep_\", entre outras."
      ],
      "metadata": {
        "id": "MRZtSXuY3yzW"
      }
    },
    {
      "cell_type": "code",
      "source": [
        "def lemmatization(text):\n",
        "    nlp = spacy.load(\"en_core_web_sm\")    # Load English language model\n",
        "    doc = nlp(text)   # Process the text using the Spacy NLP\n",
        "    tokens = [token.lemma_ for token in doc]\n",
        "    return tokens"
      ],
      "metadata": {
        "id": "rgIbQHmU3wN4"
      },
      "execution_count": null,
      "outputs": []
    },
    {
      "cell_type": "markdown",
      "source": [
        "Abaixo é chamado o método de \"lemmatization\" para a primeira notícia do DataFrame. Observe que as palavras retornam a sua forma base, por exemplo \"said\" retorna para \"say\"."
      ],
      "metadata": {
        "id": "HU6Qq-y5IFoi"
      }
    },
    {
      "cell_type": "code",
      "source": [
        "content = lemmatization(' '.join(content))\n",
        "print(content)"
      ],
      "metadata": {
        "colab": {
          "base_uri": "https://localhost:8080/"
        },
        "id": "zUwDSddlHU4l",
        "outputId": "489ad8e9-1360-4349-c9bf-b9ee2988f760",
        "collapsed": true
      },
      "execution_count": null,
      "outputs": [
        {
          "output_type": "stream",
          "name": "stdout",
          "text": [
            "['russian', 'author', 'abid', 'we', 'court', 'decis', 'take', 'regard', 'troubl', 'oil', 'giant', 'yuko', 'houston', 'court', 'tell', 'legal', 'expert', 'william', 'butler', 'say', 'treati', 'us', 'russia', 'recogni', 'legal', 'rule', 'mean', 'moscow', 'would', 'adher', 'we', 'rule', 'yuko', 'case', 'yuko', 'say', 'us', 'court', 'entitl', 'declar', 'bankrupt', 'yugansk', 'unit', 'sell', 'sinc', 'us', 'subsidiari', 'local', 'bank', 'account', 'yuko', 'make', 'surpris', 'chapter', '11', 'bankruptci', 'file', 'houston', 'decemb', 'unsuccess', 'attempt', 'halt', 'auction', 'yugansk', 'main', 'oil', 'produc', 'unit', 'russian', 'author', 'yugansk', 'sell', 'help', 'pay', '27', '5bn', '14', '5bn', 'back', 'tax', 'bill', 'buy', '9', '4bn', 'previous', 'unknown', 'group', 'turn', 'buy', 'state', 'control', 'oil', 'compani', 'rosneft', 'us', 'court', 'jurisdict', 'challeng', 'deutsch', 'bank', 'gazpromneft', 'former', 'unit', 'russian', 'ga', 'monopoli', 'gazprom', 'due', 'merg', 'rosneft', 'deutsch', 'bank', 'maintain', 'case', 'place', 'we', 'court', 'yuko', 'asset', 'we', 'apart', 'two', 'bank', 'account', 'hous', 'houston', 'own', 'chief', 'financ', 'offic', 'bruce', 'misamor', 'deutsch', 'bank', 'involv', 'case', 'sue', 'yuko', 'agre', 'loan', 'gazpromneft', 'money', 'bid', 'yugansk', 'us', 'bankruptci', 'judg', 'letitia', 'clark', 'issu', 'injunct', 'decemb', 'tri', 'prevent', 'yugansk', 'sale', 'say', 'rule', 'pretti', 'promptli', 'howev', 'anticip', 'rule', 'next', 'tuesday', 'yuko', 'claim', 'seek', 'help', 'we', 'forum', 'russian', 'court', 'european', 'court', 'human', 'right', 'either', 'unfriendli', 'offer', 'less', 'protect', 'claim', 'russia', 'impos', 'huge', 'tax', 'bill', 'forc', 'sale', 'yugansk', 'part', 'campaign', 'destroy', 'yuko', 'former', 'owner', 'mihkail', 'khodorkovski', 'face', '10', 'year', 'prison', 'term', 'russia', 'fraud', 'tax', 'evas', 'yuko', 'parent', 'compani', 'gibraltar', 'base', 'menatep', 'group', 'sue', 'russia', 'europ', '28', '3bn', 'financi', 'damag', 'compani', 'also', 'seek', '20bn', 'separ', 'we', 'lawsuit', 'rosneft', 'gazprom', 'role', 'sale', 'yugansk']\n"
          ]
        }
      ]
    },
    {
      "cell_type": "code",
      "source": [],
      "metadata": {
        "id": "EgVbn9QUiphu"
      },
      "execution_count": null,
      "outputs": []
    },
    {
      "cell_type": "markdown",
      "source": [
        "O código abaixo realiza o stemming dos tokens. Para isso, é utilizado o stemmer de língua inglesa Porter. Existem vários stemmers para diversas línguas. Acesse [3] caso queira compará-los.\n",
        "\n",
        "OBS: O stemmer RSLP é bastante utilizado para o português.\n",
        "\n",
        "[3] http://text-processing.com/demo/stem/"
      ],
      "metadata": {
        "id": "ofppSLs82nrY"
      }
    },
    {
      "cell_type": "code",
      "source": [
        "def stemming(tokens):\n",
        "  porter = PorterStemmer()\n",
        "  tokens = [porter.stem(token) for token in tokens]\n",
        "  return tokens"
      ],
      "metadata": {
        "id": "tfl2OaVA2kzX"
      },
      "execution_count": null,
      "outputs": []
    },
    {
      "cell_type": "markdown",
      "source": [
        "O código chama o método de stemming para a primeira notícia do DataFrame. Observe que algumas palavras são reduzidas ao seu stem. Por exemplo, a palavra \"december\" é tranformada em \"decemb\"."
      ],
      "metadata": {
        "id": "v5RsXJ5xIwrY"
      }
    },
    {
      "cell_type": "code",
      "source": [
        "content = stemming(content)\n",
        "print(content)"
      ],
      "metadata": {
        "colab": {
          "base_uri": "https://localhost:8080/"
        },
        "collapsed": true,
        "id": "imOIx6EAHCzV",
        "outputId": "a80af54d-c8c7-4083-fa9e-9c50071316e4"
      },
      "execution_count": null,
      "outputs": [
        {
          "output_type": "stream",
          "name": "stdout",
          "text": [
            "['russian', 'author', 'abid', 'we', 'court', 'deci', 'take', 'regard', 'troubl', 'oil', 'giant', 'yuko', 'houston', 'court', 'tell', 'legal', 'expert', 'william', 'butler', 'say', 'treati', 'us', 'russia', 'recogni', 'legal', 'rule', 'mean', 'moscow', 'would', 'adher', 'we', 'rule', 'yuko', 'case', 'yuko', 'say', 'us', 'court', 'entitl', 'declar', 'bankrupt', 'yugansk', 'unit', 'sell', 'sinc', 'us', 'subsidiari', 'local', 'bank', 'account', 'yuko', 'make', 'surpri', 'chapter', '11', 'bankruptci', 'file', 'houston', 'decemb', 'unsuccess', 'attempt', 'halt', 'auction', 'yugansk', 'main', 'oil', 'produc', 'unit', 'russian', 'author', 'yugansk', 'sell', 'help', 'pay', '27', '5bn', '14', '5bn', 'back', 'tax', 'bill', 'buy', '9', '4bn', 'previou', 'unknown', 'group', 'turn', 'buy', 'state', 'control', 'oil', 'compani', 'rosneft', 'us', 'court', 'jurisdict', 'challeng', 'deutsch', 'bank', 'gazpromneft', 'former', 'unit', 'russian', 'ga', 'monopoli', 'gazprom', 'due', 'merg', 'rosneft', 'deutsch', 'bank', 'maintain', 'case', 'place', 'we', 'court', 'yuko', 'asset', 'we', 'apart', 'two', 'bank', 'account', 'hou', 'houston', 'own', 'chief', 'financ', 'offic', 'bruce', 'misamor', 'deutsch', 'bank', 'involv', 'case', 'sue', 'yuko', 'agr', 'loan', 'gazpromneft', 'money', 'bid', 'yugansk', 'us', 'bankruptci', 'judg', 'letitia', 'clark', 'issu', 'injunct', 'decemb', 'tri', 'prevent', 'yugansk', 'sale', 'say', 'rule', 'pretti', 'promptli', 'howev', 'anticip', 'rule', 'next', 'tuesday', 'yuko', 'claim', 'seek', 'help', 'we', 'forum', 'russian', 'court', 'european', 'court', 'human', 'right', 'either', 'unfriendli', 'offer', 'less', 'protect', 'claim', 'russia', 'impo', 'huge', 'tax', 'bill', 'forc', 'sale', 'yugansk', 'part', 'campaign', 'destroy', 'yuko', 'former', 'owner', 'mihkail', 'khodorkovski', 'face', '10', 'year', 'prison', 'term', 'russia', 'fraud', 'tax', 'eva', 'yuko', 'parent', 'compani', 'gibraltar', 'base', 'menatep', 'group', 'sue', 'russia', 'europ', '28', '3bn', 'financ', 'damag', 'compani', 'also', 'seek', '20bn', 'separ', 'we', 'lawsuit', 'rosneft', 'gazprom', 'role', 'sale', 'yugansk']\n"
          ]
        }
      ]
    },
    {
      "cell_type": "markdown",
      "source": [
        "O método abaixo é um função de conveniência que aplica as tranformações citadas anteriormente em um dado do texto."
      ],
      "metadata": {
        "id": "Fzk19Uub8O2d"
      }
    },
    {
      "cell_type": "code",
      "source": [
        "def pre_processing_aux(text):\n",
        "  words = remove_non_alphanumeric(text)\n",
        "  words = remove_accents(words)\n",
        "  tokens = word_tokenize(words)\n",
        "  tokens = lowercasing(tokens)\n",
        "  tokens = remove_stop_words(tokens)\n",
        "  words = ' '.join(tokens)\n",
        "  tokens = lemmatization(words)\n",
        "  tokens = stemming(tokens)\n",
        "  return ' '.join(tokens)\n"
      ],
      "metadata": {
        "id": "5yI5blte8OC-"
      },
      "execution_count": null,
      "outputs": []
    },
    {
      "cell_type": "markdown",
      "source": [
        "O método abaixo realiza o pré processamento do conteúdo de cada notícia do DataFrame. Dessa forma, é aplicado o método *pre_processing_aux* em cada notícia do DataFrame."
      ],
      "metadata": {
        "id": "75fU65K28lAr"
      }
    },
    {
      "cell_type": "code",
      "source": [
        "def pre_processing(df):\n",
        "    df['content'] = df['content'].apply(pre_processing_aux)\n",
        "    return df\n",
        "\n",
        "\n",
        "\n",
        "# To prossegue with all dataset, put df on parameter\n",
        "# To prossegue with small dataset, put small_df in paramter\n",
        "df = pre_processing(small_df)\n",
        "df.tail()"
      ],
      "metadata": {
        "id": "Wta9h3q8HVte",
        "colab": {
          "base_uri": "https://localhost:8080/",
          "height": 206
        },
        "outputId": "6c3a7bf3-f565-4902-f079-e6a755161bfa"
      },
      "execution_count": null,
      "outputs": [
        {
          "output_type": "execute_result",
          "data": {
            "text/plain": [
              "   genre  filename                             title  \\\n",
              "73  tech  1915.txt   Norway upholds 'Napster' ruling   \n",
              "74  tech  1978.txt  Games win for Blu-ray DVD format   \n",
              "75  tech  2139.txt   More women turn to net security   \n",
              "76  tech  1842.txt  Intel unveils laser breakthrough   \n",
              "77  tech  1897.txt    China 'to overtake US net use'   \n",
              "\n",
              "                                              content  \n",
              "73  norwegian student run websit link download mp3...  \n",
              "74  next gener dvd format blu ray win support riva...  \n",
              "75  old peopl woman increasingli take charg protec...  \n",
              "76  intel unveil research could mean datum soon mo...  \n",
              "77  chines net use popul look set exceed we less t...  "
            ],
            "text/html": [
              "\n",
              "  <div id=\"df-5e08438d-9e85-4bf7-b761-deee9a721e7f\" class=\"colab-df-container\">\n",
              "    <div>\n",
              "<style scoped>\n",
              "    .dataframe tbody tr th:only-of-type {\n",
              "        vertical-align: middle;\n",
              "    }\n",
              "\n",
              "    .dataframe tbody tr th {\n",
              "        vertical-align: top;\n",
              "    }\n",
              "\n",
              "    .dataframe thead th {\n",
              "        text-align: right;\n",
              "    }\n",
              "</style>\n",
              "<table border=\"1\" class=\"dataframe\">\n",
              "  <thead>\n",
              "    <tr style=\"text-align: right;\">\n",
              "      <th></th>\n",
              "      <th>genre</th>\n",
              "      <th>filename</th>\n",
              "      <th>title</th>\n",
              "      <th>content</th>\n",
              "    </tr>\n",
              "  </thead>\n",
              "  <tbody>\n",
              "    <tr>\n",
              "      <th>73</th>\n",
              "      <td>tech</td>\n",
              "      <td>1915.txt</td>\n",
              "      <td>Norway upholds 'Napster' ruling</td>\n",
              "      <td>norwegian student run websit link download mp3...</td>\n",
              "    </tr>\n",
              "    <tr>\n",
              "      <th>74</th>\n",
              "      <td>tech</td>\n",
              "      <td>1978.txt</td>\n",
              "      <td>Games win for Blu-ray DVD format</td>\n",
              "      <td>next gener dvd format blu ray win support riva...</td>\n",
              "    </tr>\n",
              "    <tr>\n",
              "      <th>75</th>\n",
              "      <td>tech</td>\n",
              "      <td>2139.txt</td>\n",
              "      <td>More women turn to net security</td>\n",
              "      <td>old peopl woman increasingli take charg protec...</td>\n",
              "    </tr>\n",
              "    <tr>\n",
              "      <th>76</th>\n",
              "      <td>tech</td>\n",
              "      <td>1842.txt</td>\n",
              "      <td>Intel unveils laser breakthrough</td>\n",
              "      <td>intel unveil research could mean datum soon mo...</td>\n",
              "    </tr>\n",
              "    <tr>\n",
              "      <th>77</th>\n",
              "      <td>tech</td>\n",
              "      <td>1897.txt</td>\n",
              "      <td>China 'to overtake US net use'</td>\n",
              "      <td>chines net use popul look set exceed we less t...</td>\n",
              "    </tr>\n",
              "  </tbody>\n",
              "</table>\n",
              "</div>\n",
              "    <div class=\"colab-df-buttons\">\n",
              "\n",
              "  <div class=\"colab-df-container\">\n",
              "    <button class=\"colab-df-convert\" onclick=\"convertToInteractive('df-5e08438d-9e85-4bf7-b761-deee9a721e7f')\"\n",
              "            title=\"Convert this dataframe to an interactive table.\"\n",
              "            style=\"display:none;\">\n",
              "\n",
              "  <svg xmlns=\"http://www.w3.org/2000/svg\" height=\"24px\" viewBox=\"0 -960 960 960\">\n",
              "    <path d=\"M120-120v-720h720v720H120Zm60-500h600v-160H180v160Zm220 220h160v-160H400v160Zm0 220h160v-160H400v160ZM180-400h160v-160H180v160Zm440 0h160v-160H620v160ZM180-180h160v-160H180v160Zm440 0h160v-160H620v160Z\"/>\n",
              "  </svg>\n",
              "    </button>\n",
              "\n",
              "  <style>\n",
              "    .colab-df-container {\n",
              "      display:flex;\n",
              "      gap: 12px;\n",
              "    }\n",
              "\n",
              "    .colab-df-convert {\n",
              "      background-color: #E8F0FE;\n",
              "      border: none;\n",
              "      border-radius: 50%;\n",
              "      cursor: pointer;\n",
              "      display: none;\n",
              "      fill: #1967D2;\n",
              "      height: 32px;\n",
              "      padding: 0 0 0 0;\n",
              "      width: 32px;\n",
              "    }\n",
              "\n",
              "    .colab-df-convert:hover {\n",
              "      background-color: #E2EBFA;\n",
              "      box-shadow: 0px 1px 2px rgba(60, 64, 67, 0.3), 0px 1px 3px 1px rgba(60, 64, 67, 0.15);\n",
              "      fill: #174EA6;\n",
              "    }\n",
              "\n",
              "    .colab-df-buttons div {\n",
              "      margin-bottom: 4px;\n",
              "    }\n",
              "\n",
              "    [theme=dark] .colab-df-convert {\n",
              "      background-color: #3B4455;\n",
              "      fill: #D2E3FC;\n",
              "    }\n",
              "\n",
              "    [theme=dark] .colab-df-convert:hover {\n",
              "      background-color: #434B5C;\n",
              "      box-shadow: 0px 1px 3px 1px rgba(0, 0, 0, 0.15);\n",
              "      filter: drop-shadow(0px 1px 2px rgba(0, 0, 0, 0.3));\n",
              "      fill: #FFFFFF;\n",
              "    }\n",
              "  </style>\n",
              "\n",
              "    <script>\n",
              "      const buttonEl =\n",
              "        document.querySelector('#df-5e08438d-9e85-4bf7-b761-deee9a721e7f button.colab-df-convert');\n",
              "      buttonEl.style.display =\n",
              "        google.colab.kernel.accessAllowed ? 'block' : 'none';\n",
              "\n",
              "      async function convertToInteractive(key) {\n",
              "        const element = document.querySelector('#df-5e08438d-9e85-4bf7-b761-deee9a721e7f');\n",
              "        const dataTable =\n",
              "          await google.colab.kernel.invokeFunction('convertToInteractive',\n",
              "                                                    [key], {});\n",
              "        if (!dataTable) return;\n",
              "\n",
              "        const docLinkHtml = 'Like what you see? Visit the ' +\n",
              "          '<a target=\"_blank\" href=https://colab.research.google.com/notebooks/data_table.ipynb>data table notebook</a>'\n",
              "          + ' to learn more about interactive tables.';\n",
              "        element.innerHTML = '';\n",
              "        dataTable['output_type'] = 'display_data';\n",
              "        await google.colab.output.renderOutput(dataTable, element);\n",
              "        const docLink = document.createElement('div');\n",
              "        docLink.innerHTML = docLinkHtml;\n",
              "        element.appendChild(docLink);\n",
              "      }\n",
              "    </script>\n",
              "  </div>\n",
              "\n",
              "\n",
              "<div id=\"df-06d8d6d2-a528-4515-ab1d-4f80d5d1b03d\">\n",
              "  <button class=\"colab-df-quickchart\" onclick=\"quickchart('df-06d8d6d2-a528-4515-ab1d-4f80d5d1b03d')\"\n",
              "            title=\"Suggest charts\"\n",
              "            style=\"display:none;\">\n",
              "\n",
              "<svg xmlns=\"http://www.w3.org/2000/svg\" height=\"24px\"viewBox=\"0 0 24 24\"\n",
              "     width=\"24px\">\n",
              "    <g>\n",
              "        <path d=\"M19 3H5c-1.1 0-2 .9-2 2v14c0 1.1.9 2 2 2h14c1.1 0 2-.9 2-2V5c0-1.1-.9-2-2-2zM9 17H7v-7h2v7zm4 0h-2V7h2v10zm4 0h-2v-4h2v4z\"/>\n",
              "    </g>\n",
              "</svg>\n",
              "  </button>\n",
              "\n",
              "<style>\n",
              "  .colab-df-quickchart {\n",
              "      --bg-color: #E8F0FE;\n",
              "      --fill-color: #1967D2;\n",
              "      --hover-bg-color: #E2EBFA;\n",
              "      --hover-fill-color: #174EA6;\n",
              "      --disabled-fill-color: #AAA;\n",
              "      --disabled-bg-color: #DDD;\n",
              "  }\n",
              "\n",
              "  [theme=dark] .colab-df-quickchart {\n",
              "      --bg-color: #3B4455;\n",
              "      --fill-color: #D2E3FC;\n",
              "      --hover-bg-color: #434B5C;\n",
              "      --hover-fill-color: #FFFFFF;\n",
              "      --disabled-bg-color: #3B4455;\n",
              "      --disabled-fill-color: #666;\n",
              "  }\n",
              "\n",
              "  .colab-df-quickchart {\n",
              "    background-color: var(--bg-color);\n",
              "    border: none;\n",
              "    border-radius: 50%;\n",
              "    cursor: pointer;\n",
              "    display: none;\n",
              "    fill: var(--fill-color);\n",
              "    height: 32px;\n",
              "    padding: 0;\n",
              "    width: 32px;\n",
              "  }\n",
              "\n",
              "  .colab-df-quickchart:hover {\n",
              "    background-color: var(--hover-bg-color);\n",
              "    box-shadow: 0 1px 2px rgba(60, 64, 67, 0.3), 0 1px 3px 1px rgba(60, 64, 67, 0.15);\n",
              "    fill: var(--button-hover-fill-color);\n",
              "  }\n",
              "\n",
              "  .colab-df-quickchart-complete:disabled,\n",
              "  .colab-df-quickchart-complete:disabled:hover {\n",
              "    background-color: var(--disabled-bg-color);\n",
              "    fill: var(--disabled-fill-color);\n",
              "    box-shadow: none;\n",
              "  }\n",
              "\n",
              "  .colab-df-spinner {\n",
              "    border: 2px solid var(--fill-color);\n",
              "    border-color: transparent;\n",
              "    border-bottom-color: var(--fill-color);\n",
              "    animation:\n",
              "      spin 1s steps(1) infinite;\n",
              "  }\n",
              "\n",
              "  @keyframes spin {\n",
              "    0% {\n",
              "      border-color: transparent;\n",
              "      border-bottom-color: var(--fill-color);\n",
              "      border-left-color: var(--fill-color);\n",
              "    }\n",
              "    20% {\n",
              "      border-color: transparent;\n",
              "      border-left-color: var(--fill-color);\n",
              "      border-top-color: var(--fill-color);\n",
              "    }\n",
              "    30% {\n",
              "      border-color: transparent;\n",
              "      border-left-color: var(--fill-color);\n",
              "      border-top-color: var(--fill-color);\n",
              "      border-right-color: var(--fill-color);\n",
              "    }\n",
              "    40% {\n",
              "      border-color: transparent;\n",
              "      border-right-color: var(--fill-color);\n",
              "      border-top-color: var(--fill-color);\n",
              "    }\n",
              "    60% {\n",
              "      border-color: transparent;\n",
              "      border-right-color: var(--fill-color);\n",
              "    }\n",
              "    80% {\n",
              "      border-color: transparent;\n",
              "      border-right-color: var(--fill-color);\n",
              "      border-bottom-color: var(--fill-color);\n",
              "    }\n",
              "    90% {\n",
              "      border-color: transparent;\n",
              "      border-bottom-color: var(--fill-color);\n",
              "    }\n",
              "  }\n",
              "</style>\n",
              "\n",
              "  <script>\n",
              "    async function quickchart(key) {\n",
              "      const quickchartButtonEl =\n",
              "        document.querySelector('#' + key + ' button');\n",
              "      quickchartButtonEl.disabled = true;  // To prevent multiple clicks.\n",
              "      quickchartButtonEl.classList.add('colab-df-spinner');\n",
              "      try {\n",
              "        const charts = await google.colab.kernel.invokeFunction(\n",
              "            'suggestCharts', [key], {});\n",
              "      } catch (error) {\n",
              "        console.error('Error during call to suggestCharts:', error);\n",
              "      }\n",
              "      quickchartButtonEl.classList.remove('colab-df-spinner');\n",
              "      quickchartButtonEl.classList.add('colab-df-quickchart-complete');\n",
              "    }\n",
              "    (() => {\n",
              "      let quickchartButtonEl =\n",
              "        document.querySelector('#df-06d8d6d2-a528-4515-ab1d-4f80d5d1b03d button');\n",
              "      quickchartButtonEl.style.display =\n",
              "        google.colab.kernel.accessAllowed ? 'block' : 'none';\n",
              "    })();\n",
              "  </script>\n",
              "</div>\n",
              "\n",
              "    </div>\n",
              "  </div>\n"
            ],
            "application/vnd.google.colaboratory.intrinsic+json": {
              "type": "dataframe",
              "summary": "{\n  \"name\": \"df\",\n  \"rows\": 5,\n  \"fields\": [\n    {\n      \"column\": \"genre\",\n      \"properties\": {\n        \"dtype\": \"category\",\n        \"num_unique_values\": 1,\n        \"samples\": [\n          \"tech\"\n        ],\n        \"semantic_type\": \"\",\n        \"description\": \"\"\n      }\n    },\n    {\n      \"column\": \"filename\",\n      \"properties\": {\n        \"dtype\": \"string\",\n        \"num_unique_values\": 5,\n        \"samples\": [\n          \"1978.txt\"\n        ],\n        \"semantic_type\": \"\",\n        \"description\": \"\"\n      }\n    },\n    {\n      \"column\": \"title\",\n      \"properties\": {\n        \"dtype\": \"string\",\n        \"num_unique_values\": 5,\n        \"samples\": [\n          \"Games win for Blu-ray DVD format\"\n        ],\n        \"semantic_type\": \"\",\n        \"description\": \"\"\n      }\n    },\n    {\n      \"column\": \"content\",\n      \"properties\": {\n        \"dtype\": \"string\",\n        \"num_unique_values\": 5,\n        \"samples\": [\n          \"next gener dvd format blu ray win support rival accord backer blu ray back 100 firm includ soni compet toshiba nec back hd dvd format choic futur film game blu ray associ say thursday game giant electron art vivendi would support dvd format next gener dvd hold high definit video sound offer incred 3d like qualiti pictur major hollywood studio game publish extrem keen exploit come year separ press confer consum electron show la vega toshiba announc dvd player technolog would market end 2005 move standard definit video imag high definit imag much great need storag richard doherti panason hollywood laboratori one pioneer blu ray tell bbc news websit utilis blue laser base technolog make optic laser disc hold six time much today dvd blu ray disc abl store 50 gb high qualiti datum toshiba hd dvd hold 30 gb mr doherti add make sure disc could satisfi high definit need includ abil record onto dvd small disc fit camcord toshiba blu ray hope emerg dvd format war akin betamax vh fight 1980 resolv next year next gener dvd player start come player come abl play standard dvd good news huge librari current dvd support vivendi electron art big boost blu ray battl supremaci game 20 billion industri worldwid crucial film industri term money make technic requir game develop today demand advanc optic disc technolog say michael heilmann chief technolog offic vivendi univers blu ray offer capac perform high speed internet connect take we futur game ea lead game develop publish add deliveri high definit game futur vital blu ray capac function interact need kind project plan soni recent announc would use technolog next gener playstat mr doherti say gamer raven high qualiti graphic technolog next gener titl gamer especi work pc alway focu capac deliv textur deep level deliv high resolut playback add focu game move forward increas immers game compani realli like focu creat world involv creat complic 3d model textur increas resolut increas frame rate part get immers experi fit model current dvd technolog mean compress graphic much much qualiti lose game move photo real capabl current technolog limit thrill advanc capac start build immers environ say mr doherti current graphic intens pc game also requir multipl disc instal high definit dvd cut need likewis consol reli singl disc dvd hold six time datum mean much well high resolut game blu ray alreadi back major hollywood studio mgm studio disney buena vista well top technolog firm like dell lg samsung phillip amongst other toshiba hd dvd technolog back paramount univers warner bro real world benefit hd dvd appar obviou say jim cardwel presid warner home video mr cardwel add rapid time market depend signific factor choos go hd dvd format court microsoft format choic next gener xbox discuss still go next gener dvd also abl store imag datum ce larg consum electron show world run 6 9 januari\"\n        ],\n        \"semantic_type\": \"\",\n        \"description\": \"\"\n      }\n    }\n  ]\n}"
            }
          },
          "metadata": {},
          "execution_count": 77
        }
      ]
    },
    {
      "cell_type": "code",
      "source": [
        "# df_to_csv = df.to_csv('pre_processed_dataset.csv', index=False)"
      ],
      "metadata": {
        "id": "7CQl1kZZhfQz"
      },
      "execution_count": null,
      "outputs": []
    },
    {
      "cell_type": "markdown",
      "source": [
        "### Número de Documentos por classe do small_df"
      ],
      "metadata": {
        "id": "j4159E1awOMJ"
      }
    },
    {
      "cell_type": "markdown",
      "source": [
        "O DataFrame que será utilizado é o DataFrame com número de notícias reduzido de forma a agilizar o pré processamento para fins didáticos. Observe o quantitaivo de cada classe de notícias.O método empregado é o mesmo utilizado para gerar o gráfico anterior."
      ],
      "metadata": {
        "id": "PVUfuy369E2q"
      }
    },
    {
      "cell_type": "code",
      "source": [
        "plot_doc_by_class(genres, df)"
      ],
      "metadata": {
        "id": "B-TwOLE8ZGHu",
        "colab": {
          "base_uri": "https://localhost:8080/",
          "height": 491
        },
        "outputId": "c1281cd8-5e1a-4968-90af-1b2f854439b9"
      },
      "execution_count": null,
      "outputs": [
        {
          "output_type": "display_data",
          "data": {
            "text/plain": [
              "<Figure size 640x480 with 1 Axes>"
            ],
            "image/png": "[encoded data removed]"
          },
          "metadata": {}
        }
      ]
    },
    {
      "cell_type": "markdown",
      "source": [
        "### Top 20 tokens mais frequentes"
      ],
      "metadata": {
        "id": "TYZbGMYDZbPO"
      }
    },
    {
      "cell_type": "markdown",
      "source": [
        "Os códigos a seguir são um conjunto de métodos que têm como objetivo gerar gráficos para análise de quantitivo de palavras mais comuns em cada gênero de notícias e no DataFrame como um todo. O objetivo é conhecer o dataset."
      ],
      "metadata": {
        "id": "ZYQvGOkHZIUY"
      }
    },
    {
      "cell_type": "markdown",
      "source": [
        "O método abaixo captura o conteúdo das notícias de um determinado gênero. Para isso, o DataFrame e o gênero são passados como parâmetro. É utilizado o método \"loc\" para filtrar as linhas do DataFrame onde a coluna genre corresponde ao gênero especificado. O conteúdo dessas notícias, localizado na coluna content, é então concatenado em uma única string, utilizando o separador de espaço (sep=' '), por meio do método str.cat(). Dessa forma, o resultado é uma string única que contém o texto de todas as notícias do gênero escolhido. Esse método é utilizado posteriormente para criar o dicionário do conteúdo de cada gênero, o que facilitará a análise das palavras mais frequentes por gênero."
      ],
      "metadata": {
        "id": "X002Z43PA9a8"
      }
    },
    {
      "cell_type": "code",
      "source": [
        "def get_genre_content(df, genre):\n",
        "  content = df.loc[df['genre'] == genre, 'content'].str.cat(sep=' ')\n",
        "  return content"
      ],
      "metadata": {
        "id": "X7Di19AGA7AS"
      },
      "execution_count": null,
      "outputs": []
    },
    {
      "cell_type": "markdown",
      "source": [
        "O método abaixo cria um dicionário para cada classe de notícias do DataFrame, além de criar também uma tupla \"all\", que corresponde ao conteúdo de todas as classes juntas."
      ],
      "metadata": {
        "id": "8qnpE_TzB97W"
      }
    },
    {
      "cell_type": "code",
      "source": [
        "def create_dict_content(df):\n",
        "  dict_content = {}\n",
        "  for genre in genres:\n",
        "      dict_content[genre] = get_genre_content(df, genre)\n",
        "      if 'all' in dict_content:\n",
        "        dict_content['all'] += get_genre_content(df, genre)\n",
        "      else:\n",
        "          dict_content['all'] = get_genre_content(df, genre)\n",
        "  return dict_content"
      ],
      "metadata": {
        "id": "NqBSOlirB8AS"
      },
      "execution_count": null,
      "outputs": []
    },
    {
      "cell_type": "markdown",
      "source": [
        "O método abaixo utiliza o método \"Counter\" para contabilazar a quantidade de vezes que cada palavra aparecesse em cada key do dicionário \"dict_content\". Assim, percorre-se o dicionário e utiliza-se o método counter no campo item do dicionário."
      ],
      "metadata": {
        "id": "j7Qm6geCDOph"
      }
    },
    {
      "cell_type": "code",
      "source": [
        "def create_count_content(dict_content):\n",
        "  count_content = {}\n",
        "  for genre, content in dict_content.items():\n",
        "      count_content[genre] = Counter(content.split())\n",
        "  return count_content"
      ],
      "metadata": {
        "id": "ehTMrffCC4op"
      },
      "execution_count": null,
      "outputs": []
    },
    {
      "cell_type": "markdown",
      "source": [
        "O método abaixo retorna as top_n palavras mais frequentes de um dicionário de palavras. Para isso, utiliza-se o método do dicionário counter \"most_common\"."
      ],
      "metadata": {
        "id": "KBpayNaNDwfu"
      }
    },
    {
      "cell_type": "code",
      "source": [
        "def get_top_n_words(top_n, count_words):\n",
        "    most_common_words = {}\n",
        "    for word, count in count_words.most_common(top_n):\n",
        "        most_common_words[word] = count\n",
        "    return most_common_words"
      ],
      "metadata": {
        "id": "2QSo3JWgDqyf"
      },
      "execution_count": null,
      "outputs": []
    },
    {
      "cell_type": "markdown",
      "source": [
        "O método abaixo gera o gráfico das top_n palavras mais frequências em cada classe de notícias. O método também é utilizado para gerar o gráfico das palavras mais comuns em todo o DataFrame.\n",
        "Dessa forma, armazena-se em uma dicionário as top_n mais palavras mais frequentes e suas quantidades chamando o método **get_top_n_words** . Em seguida, as quantidades são ordenadas e o gráfico é plotado utilizando a biblioteca *matplotlib*."
      ],
      "metadata": {
        "id": "cVWxEvrrETFo"
      }
    },
    {
      "cell_type": "code",
      "source": [
        "def plot_h_most_common_words(top_n, count_content, genre, title, fontsize):\n",
        "    most_common = get_top_n_words(top_n, count_content[genre])\n",
        "    most_common = sorted(most_common.items(), key=lambda x: x[1])\n",
        "    words = [item[0] for item in most_common ]\n",
        "    counts = [item[1] for item in most_common ]\n",
        "    plt.figure(figsize=(11, 6))\n",
        "    plt.barh(words, counts, color='skyblue')\n",
        "    plt.xlabel('Quantity', labelpad=15)\n",
        "    plt.ylabel('Tokens', labelpad=15)\n",
        "    plt.grid(False)\n",
        "    plt.title(title, pad=15)\n",
        "    #Display number of token in front of each bar\n",
        "    for i in range(len(words)):\n",
        "      plt.text(counts[i], i, ' ' + str(counts[i]), ha='left', va='center')\n",
        "\n",
        "dict_content = create_dict_content(df)\n",
        "count_content = create_count_content(dict_content)"
      ],
      "metadata": {
        "id": "Wjyk7VVtZedG"
      },
      "execution_count": null,
      "outputs": []
    },
    {
      "cell_type": "markdown",
      "source": [
        "### Top 20 tokens mais frequentes na classe business"
      ],
      "metadata": {
        "id": "hhtAbugmZkKB"
      }
    },
    {
      "cell_type": "markdown",
      "source": [
        "Código que chama o método para gerar o gráfico das palavras mais comuns na classe business."
      ],
      "metadata": {
        "id": "dSpcdwnvFTJE"
      }
    },
    {
      "cell_type": "code",
      "source": [
        "top_n = 20\n",
        "fontsize = 12\n",
        "title_business = 'Top {} Most Frequent Tokens in business'.format(top_n)\n",
        "plot_h_most_common_words(top_n, count_content, 'business', title_business, fontsize)"
      ],
      "metadata": {
        "id": "CKBkstIOZh5t",
        "colab": {
          "base_uri": "https://localhost:8080/",
          "height": 592
        },
        "outputId": "07abb2cb-2aae-4c24-973d-cfe069f52d58"
      },
      "execution_count": null,
      "outputs": [
        {
          "output_type": "display_data",
          "data": {
            "text/plain": [
              "<Figure size 1100x600 with 1 Axes>"
            ],
            "image/png": "[encoded data removed]"
          },
          "metadata": {}
        }
      ]
    },
    {
      "cell_type": "markdown",
      "source": [
        "### Top 20 tokens mais frequentes na classe entertainment\n"
      ],
      "metadata": {
        "id": "MuAx4H_lZosb"
      }
    },
    {
      "cell_type": "markdown",
      "source": [
        "Código que chama o método para gerar o gráfico das palavras mais comuns na classe entertainment. A letra \"m\" é relativo a \"milhões\"."
      ],
      "metadata": {
        "id": "Y4o7jvzHFbCA"
      }
    },
    {
      "cell_type": "code",
      "source": [
        "top_n = 20\n",
        "fontsize = 12\n",
        "title_entertainment = 'Top {} Most Frequent Tokens in entertainment'.format(top_n)\n",
        "plot_h_most_common_words(top_n, count_content, 'entertainment', title_entertainment, fontsize)"
      ],
      "metadata": {
        "id": "r9_HKpdzZrTz",
        "colab": {
          "base_uri": "https://localhost:8080/",
          "height": 592
        },
        "outputId": "1dd64ead-2b4a-4307-b6c9-600e57e803ed"
      },
      "execution_count": null,
      "outputs": [
        {
          "output_type": "display_data",
          "data": {
            "text/plain": [
              "<Figure size 1100x600 with 1 Axes>"
            ],
            "image/png": "[encoded data removed]"
          },
          "metadata": {}
        }
      ]
    },
    {
      "cell_type": "markdown",
      "source": [
        "### Top 20 tokens mais frequentes na classe politics"
      ],
      "metadata": {
        "id": "qazS7iL0Zupp"
      }
    },
    {
      "cell_type": "markdown",
      "source": [
        "Código que chama o método para gerar o gráfico das palavras mais comuns na classe politics."
      ],
      "metadata": {
        "id": "gViyEqf4Ffoz"
      }
    },
    {
      "cell_type": "code",
      "source": [
        "top_n = 20\n",
        "fontsize = 12\n",
        "title_politics = 'Top {} Most Frequent Tokens in politics'.format(top_n)\n",
        "plot_h_most_common_words(top_n, count_content, 'politics', title_politics, fontsize)"
      ],
      "metadata": {
        "id": "IzKfvQglZw3Y",
        "colab": {
          "base_uri": "https://localhost:8080/",
          "height": 592
        },
        "outputId": "0e00a661-478e-4dc1-defe-efd581ee1501"
      },
      "execution_count": null,
      "outputs": [
        {
          "output_type": "display_data",
          "data": {
            "text/plain": [
              "<Figure size 1100x600 with 1 Axes>"
            ],
            "image/png": "[encoded data removed]"
          },
          "metadata": {}
        }
      ]
    },
    {
      "cell_type": "markdown",
      "source": [
        "### Top 20 tokens mais frequentes na classe sport"
      ],
      "metadata": {
        "id": "jKWOQEgSZy51"
      }
    },
    {
      "cell_type": "markdown",
      "source": [
        "Código que chama o método para gerar o gráfico das palavras mais comuns na classe sport."
      ],
      "metadata": {
        "id": "MgEt67qFFnoL"
      }
    },
    {
      "cell_type": "code",
      "source": [
        "top_n = 20\n",
        "fontsize = 12\n",
        "title_sport = 'Top {} Most Frequent Tokens in sport'.format(top_n)\n",
        "plot_h_most_common_words(top_n, count_content, 'sport', title_sport, fontsize)"
      ],
      "metadata": {
        "id": "yZ_EDuTMZ0sQ",
        "colab": {
          "base_uri": "https://localhost:8080/",
          "height": 592
        },
        "outputId": "932a5293-e8c8-4f51-eadc-d72caf3bf9b3"
      },
      "execution_count": null,
      "outputs": [
        {
          "output_type": "display_data",
          "data": {
            "text/plain": [
              "<Figure size 1100x600 with 1 Axes>"
            ],
            "image/png": "[encoded data removed]"
          },
          "metadata": {}
        }
      ]
    },
    {
      "cell_type": "markdown",
      "source": [
        "### Top 20 tokens mais frequentes na classe tech"
      ],
      "metadata": {
        "id": "CeQg0EgGZ33B"
      }
    },
    {
      "cell_type": "markdown",
      "source": [
        "Código que chama o método para gerar o gráfico das palavras mais comuns na classe tech."
      ],
      "metadata": {
        "id": "IXglZWjiFrMD"
      }
    },
    {
      "cell_type": "code",
      "source": [
        "top_n = 20\n",
        "fontsize = 12\n",
        "title_tech = 'Top {} Most Frequent Tokens in tech'.format(top_n)\n",
        "plot_h_most_common_words(top_n, count_content, 'tech', title_tech, fontsize)"
      ],
      "metadata": {
        "id": "0KhZjQ_iZ45v",
        "colab": {
          "base_uri": "https://localhost:8080/",
          "height": 592
        },
        "outputId": "bafb80fb-142f-4a86-b465-2143f01068c1"
      },
      "execution_count": null,
      "outputs": [
        {
          "output_type": "display_data",
          "data": {
            "text/plain": [
              "<Figure size 1100x600 with 1 Axes>"
            ],
            "image/png": "[encoded data removed]"
          },
          "metadata": {}
        }
      ]
    },
    {
      "cell_type": "markdown",
      "source": [
        "### Top 20 tokens mais frequentes no dataset"
      ],
      "metadata": {
        "id": "rfQCxMl0Z8r7"
      }
    },
    {
      "cell_type": "markdown",
      "source": [
        "Código que chama o método para gerar o gráfico das palavras mais comuns em todo o DataFrame."
      ],
      "metadata": {
        "id": "SDapUImQFvFO"
      }
    },
    {
      "cell_type": "code",
      "source": [
        "top_n = 20\n",
        "fontsize = 12\n",
        "title_all = 'Top {} Most Frequent Tokens in all dataset'.format(top_n)\n",
        "plot_h_most_common_words(top_n, count_content, 'all', title_all, fontsize)"
      ],
      "metadata": {
        "id": "lCydThEyZ-oe",
        "colab": {
          "base_uri": "https://localhost:8080/",
          "height": 592
        },
        "outputId": "81b907cd-254b-4450-bf90-c7d9eb0b792b"
      },
      "execution_count": null,
      "outputs": [
        {
          "output_type": "display_data",
          "data": {
            "text/plain": [
              "<Figure size 1100x600 with 1 Axes>"
            ],
            "image/png": "[encoded data removed]"
          },
          "metadata": {}
        }
      ]
    },
    {
      "cell_type": "markdown",
      "source": [
        "## Frequência de classes por token   "
      ],
      "metadata": {
        "id": "jRVS9ksoaFUf"
      }
    },
    {
      "cell_type": "markdown",
      "source": [
        "Os métodos a seguir são um conjunto de códigos que têm como objetivo analisar a frequência das classes por token."
      ],
      "metadata": {
        "id": "WqRRKD8AltCg"
      }
    },
    {
      "cell_type": "markdown",
      "source": [
        "O código abaixo seleciona 3 palavras aleatórias do DataFrame.\n"
      ],
      "metadata": {
        "id": "YHV2_m_NWh60"
      }
    },
    {
      "cell_type": "code",
      "source": [
        "random_words = random.sample(dict_content['all'].split(), 3)\n",
        "print(\"random words: \", random_words)"
      ],
      "metadata": {
        "id": "ZDMHvU07Ww0Y",
        "colab": {
          "base_uri": "https://localhost:8080/"
        },
        "outputId": "d5fa2444-0e63-47d3-c33f-0a6c1c261afe"
      },
      "execution_count": null,
      "outputs": [
        {
          "output_type": "stream",
          "name": "stdout",
          "text": [
            "random words:  ['game', 'break', 'match']\n"
          ]
        }
      ]
    },
    {
      "cell_type": "markdown",
      "source": [
        "O método abaixo retorna um dicionário que mapeia os gêneros aos quais uma determinada palavra pertence, além de indicar a quantidade de vezes que essa palavra aparece em cada gênero."
      ],
      "metadata": {
        "id": "opb7rhBlYDGV"
      }
    },
    {
      "cell_type": "code",
      "source": [
        "def get_counts_by_genre(word, count_genres):\n",
        "    counts_by_genre = {}  #Dictionary to store word count in each class\n",
        "    for genre, content_counter in count_genres.items():\n",
        "        if word in content_counter:\n",
        "            counts_by_genre[genre] = content_counter[word]  # Adds the word count in the class to the dictionary\n",
        "    return counts_by_genre"
      ],
      "metadata": {
        "id": "RFEQTKzkW7qG"
      },
      "execution_count": null,
      "outputs": []
    },
    {
      "cell_type": "markdown",
      "source": [
        "O método abaixo chama o método **get_counts_by_genre** para todas as palavras aleatórias geradas, retornando um dicionário para cada palavra."
      ],
      "metadata": {
        "id": "6lGgULrCYml7"
      }
    },
    {
      "cell_type": "code",
      "source": [
        "def get_frequency_class_by_word(selected_words, count_genres):\n",
        "    dict_frequency = {}\n",
        "    for word in selected_words:\n",
        "        dict_frequency[word] = get_counts_by_genre(word, count_genres)\n",
        "    return dict_frequency\n",
        "\n",
        "\n",
        "dict_frequency = get_frequency_class_by_word(random_words, count_content)\n",
        "print(dict_frequency)"
      ],
      "metadata": {
        "id": "FRKi1JhUYlBa",
        "colab": {
          "base_uri": "https://localhost:8080/"
        },
        "outputId": "3c0647c7-10b4-4aaf-dc9a-1c7e32eca692"
      },
      "execution_count": null,
      "outputs": [
        {
          "output_type": "stream",
          "name": "stdout",
          "text": [
            "{'game': {'business': 8, 'all': 55, 'entertainment': 1, 'politics': 2, 'sport': 22, 'tech': 22}, 'break': {'business': 1, 'all': 15, 'entertainment': 1, 'politics': 5, 'sport': 8}, 'match': {'all': 13, 'sport': 13}}\n"
          ]
        }
      ]
    },
    {
      "cell_type": "markdown",
      "source": [
        "## Exercícios"
      ],
      "metadata": {
        "id": "hGqNc9NvM8mC"
      }
    },
    {
      "cell_type": "markdown",
      "source": [
        "Para praticar as metodologias apresentadas, os alunos deverão realizar a Análise Exploratória, Visualização e pré processamento da base de dados  **WOS5736** , disponível em [2].\n",
        "\n",
        "[2] https://github.com/wuchengyuan88/document-classification/tree/master"
      ],
      "metadata": {
        "id": "gNhLntrDNAcW"
      }
    },
    {
      "cell_type": "markdown",
      "source": [
        "Fazer o download do dataset, ler o arquivo csv para um DataFrame."
      ],
      "metadata": {
        "id": "YzzHwOMdJZYX"
      }
    },
    {
      "cell_type": "code",
      "source": [
        "# Adione sua resposta aqui\n",
        "\n",
        "\n"
      ],
      "metadata": {
        "id": "HIuMdnYPJh8A"
      },
      "execution_count": null,
      "outputs": []
    },
    {
      "cell_type": "markdown",
      "source": [
        "\n",
        "Criar e exibir um gráfico mostrando quantos documentos existem por classe."
      ],
      "metadata": {
        "id": "XFRqgpFCJeK6"
      }
    },
    {
      "cell_type": "code",
      "source": [
        "# Adione sua resposta aqui\n",
        "\n",
        "\n"
      ],
      "metadata": {
        "id": "06UyUOS_JWt-"
      },
      "execution_count": null,
      "outputs": []
    },
    {
      "cell_type": "markdown",
      "source": [
        "Remover caracteres não alfanuméricos."
      ],
      "metadata": {
        "id": "Cofeog49L98j"
      }
    },
    {
      "cell_type": "code",
      "source": [
        "# Adione sua resposta aqui\n",
        "\n",
        "\n"
      ],
      "metadata": {
        "id": "qvmKzXQYMBZg"
      },
      "execution_count": null,
      "outputs": []
    },
    {
      "cell_type": "markdown",
      "source": [
        "Remover acentos do DataFrame."
      ],
      "metadata": {
        "id": "mrk-EyfOJv-i"
      }
    },
    {
      "cell_type": "code",
      "source": [
        "# Adione sua resposta aqui\n",
        "\n",
        "\n"
      ],
      "metadata": {
        "id": "Wmw0FOo6J4HC"
      },
      "execution_count": null,
      "outputs": []
    },
    {
      "cell_type": "markdown",
      "source": [
        "Fazer tokenização do texto."
      ],
      "metadata": {
        "id": "YbwiwGVwK25a"
      }
    },
    {
      "cell_type": "code",
      "source": [
        "# Adione sua resposta aqui\n",
        "\n",
        "\n"
      ],
      "metadata": {
        "id": "Lj7FiWSfK5i6"
      },
      "execution_count": null,
      "outputs": []
    },
    {
      "cell_type": "markdown",
      "source": [
        "Tranformar os caracteres em caracteres minúsculos."
      ],
      "metadata": {
        "id": "R8buQkycJ6ld"
      }
    },
    {
      "cell_type": "code",
      "source": [
        "# Adicone sua resposta aqui\n",
        "\n",
        "\n"
      ],
      "metadata": {
        "id": "NJ3wKMFFKEqm"
      },
      "execution_count": null,
      "outputs": []
    },
    {
      "cell_type": "markdown",
      "source": [
        "Remover stop words."
      ],
      "metadata": {
        "id": "LzaQ_XgCKIA5"
      }
    },
    {
      "cell_type": "code",
      "source": [
        "# Adicone sua resposta aqui\n",
        "\n",
        "\n"
      ],
      "metadata": {
        "id": "r3hDP06mKJ5B"
      },
      "execution_count": null,
      "outputs": []
    },
    {
      "cell_type": "markdown",
      "source": [
        "Fazer lematização do texto."
      ],
      "metadata": {
        "id": "fveeotDJKLtc"
      }
    },
    {
      "cell_type": "code",
      "source": [
        "# Adicone sua resposta aqui\n",
        "\n",
        "\n"
      ],
      "metadata": {
        "id": "q1dK_6jDKRnK"
      },
      "execution_count": null,
      "outputs": []
    },
    {
      "cell_type": "markdown",
      "source": [
        "Fazer stemming do texto."
      ],
      "metadata": {
        "id": "yn0t2isTKU_b"
      }
    },
    {
      "cell_type": "code",
      "source": [
        "# Adicone sua resposta aqui\n",
        "\n",
        "\n"
      ],
      "metadata": {
        "id": "4bx9rvUVKaoo"
      },
      "execution_count": null,
      "outputs": []
    },
    {
      "cell_type": "markdown",
      "source": [
        "Fazer função de conveniência que agrupe os métodos de cada etapa do pré processamento."
      ],
      "metadata": {
        "id": "yZSJUsokKg5q"
      }
    },
    {
      "cell_type": "code",
      "source": [
        "# Adicone sua resposta aqui\n",
        "\n",
        "\n"
      ],
      "metadata": {
        "id": "FH61qNaULCG2"
      },
      "execution_count": null,
      "outputs": []
    },
    {
      "cell_type": "markdown",
      "source": [
        "Fazer método de gerar gráfico dos tokens mais frequêntes por classe do DataFrame."
      ],
      "metadata": {
        "id": "_hfpz8VLLAYA"
      }
    },
    {
      "cell_type": "code",
      "source": [
        "# Adicone sua resposta aqui\n",
        "\n",
        "\n"
      ],
      "metadata": {
        "id": "5gIvE93KLJie"
      },
      "execution_count": null,
      "outputs": []
    },
    {
      "cell_type": "markdown",
      "source": [
        "Chamar o método de gerar os gráficos de tokens mais frequentes por classe para cada classe do DataFrame."
      ],
      "metadata": {
        "id": "tAXwpeKcMWse"
      }
    },
    {
      "cell_type": "code",
      "source": [
        "# Adicone sua resposta aqui\n",
        "\n",
        "\n"
      ],
      "metadata": {
        "id": "lkGlTSqrMUP4"
      },
      "execution_count": null,
      "outputs": []
    },
    {
      "cell_type": "markdown",
      "source": [
        "Criar um dicionário de Frequência de classes por token."
      ],
      "metadata": {
        "id": "FCcAvyZ_LQiM"
      }
    },
    {
      "cell_type": "code",
      "source": [
        "# Adicone sua resposta aqui\n",
        "\n",
        "\n"
      ],
      "metadata": {
        "id": "jhJah08oLXyA"
      },
      "execution_count": null,
      "outputs": []
    },
    {
      "cell_type": "markdown",
      "source": [
        "## Referências"
      ],
      "metadata": {
        "id": "Z8w_sdk7Qk9T"
      }
    },
    {
      "cell_type": "markdown",
      "source": [
        "@misc{gomes2024remover,\n",
        "  author = {Ramon Gomes},\n",
        "  title = {Remover caracteres especiais em JavaScript},\n",
        "  year = {2024},\n",
        "  url = {https://blog.ramongomes.com.br/remover-caracteres-especiais-js/#:~:text=%C3%89%20importante%20ter%20em%20mente,remo%C3%A7%C3%A3o%20antes%20de%20aplic%C3%A1%2Dla.&text=O%20c%C3%B3digo%20acima%20remove%20todos,e%20n%C3%BAmeros)%2C%20incluindo%20espa%C3%A7os.},\n",
        "  note = {Acesso em: 02 set. 2024}\n",
        "}\n",
        "\n",
        "@misc{cloudmarket2024stopwords,\n",
        "  author = {{CloudMarket}},\n",
        "  title = {O que é Stop Word (Palavra de Parada)?},\n",
        "  year = {2024},\n",
        "  url = {https://www.cloudmarket.com.br/marketing-digital/blog/glossario/o-que-e-stop-word-palavra-de-parada/},\n",
        "  note = {Acesso em: 02 set. 2024}\n",
        "}\n",
        "\n",
        "@misc{techtarget2024lemmatization,\n",
        "  author = {{TechTarget}},\n",
        "  title = {Lemmatization Definition},\n",
        "  year = {2024},\n",
        "  url = {https://www.techtarget.com/searchenterpriseai/definition/lemmatization#:~:text=Lemmatization%20is%20the%20process%20of,processing%20(NLP)%20and%20chatbots.},\n",
        "  note = {Acesso em: 02 set. 2024}\n",
        "}\n",
        "\n",
        "@misc{wikipedia2024stemming,\n",
        "  author = {{Wikipédia}},\n",
        "  title = {Stemização},\n",
        "  year = {2024},\n",
        "  url = {https://pt.wikipedia.org/wiki/Stemiza%C3%A7%C3%A3o},\n",
        "  note = {Acesso em: 02 set. 2024}\n",
        "}\n",
        "\n",
        "@misc{geeksforgeeks2024eda,\n",
        "  author = {{GeeksForGeeks}},\n",
        "  title = {What is Exploratory Data Analysis?},\n",
        "  year = {2024},\n",
        "  url = {https://www.geeksforgeeks.org/what-is-exploratory-data-analysis/},\n",
        "  note = {Acesso em: 02 set. 2024}\n",
        "}\n",
        "\n",
        "@misc{wikipedia2024eda,\n",
        "  author = {{Wikipédia}},\n",
        "  title = {Análise Exploratória de Dados},\n",
        "  year = {2024},\n",
        "  url = {https://pt.wikipedia.org/wiki/An%C3%A1lise_explorat%C3%B3ria_de_dados},\n",
        "  note = {Acesso em: 02 set. 2024}\n",
        "}\n",
        "\n",
        "@misc{ebaconline2024eda,\n",
        "  author = {{EBAC Online}},\n",
        "  title = {Análise Exploratória de Dados: o que é?},\n",
        "  year = {2024},\n",
        "  url = {https://ebaconline.com.br/blog/analise-exploratoria-de-dados-o-que-e},\n",
        "  note = {Acesso em: 02 set. 2024}\n",
        "}\n",
        "\n",
        "@misc{ibm2024eda,\n",
        "  author = {{IBM}},\n",
        "  title = {Análise Exploratória de Dados},\n",
        "  year = {2024},\n",
        "  url = {https://www.ibm.com/br-pt/topics/exploratory-data-analysis#:~:text=A%20an%C3%A1lise%20explorat%C3%B3ria%20de%20dados,m%C3%A9todos%20de%20visualiza%C3%A7%C3%A3o%20de%20dados.},\n",
        "  note = {Acesso em: 02 set. 2024}\n",
        "}\n",
        "\n",
        "\n",
        "@article{porter1980algorithm,\n",
        "  author = {Porter, M. F.},\n",
        "  title = {An algorithm for suffix stripping},\n",
        "  journal = {Program},\n",
        "  year = {1980},\n",
        "  volume = {14},\n",
        "  number = {3},\n",
        "  pages = {130--137},\n",
        "  doi = {10.1108/eb046814},\n",
        "  url = {https://sci-hub.se/https://doi.org/10.1108/eb046814}\n",
        "}\n",
        "\n",
        "@misc{davedovicz2020nlp,\n",
        "  author = {Guilherme Davedovicz},\n",
        "  title = {NLP para Iniciantes: Lematização},\n",
        "  year = {2020},\n",
        "  howpublished = {\\url{https://medium.com/@guilherme.davedovicz/nlp-para-iniciantes-lematiza%C3%A7%C3%A3o-d3f723fa9ee3}},\n",
        "  note = {Acessado em: 10 set. 2024}\n",
        "}\n",
        "\n",
        "@misc{spotintelligence2022lemmatization,\n",
        "  author = {{Spot Intelligence}},\n",
        "  title = {Lemmatization in NLP: Techniques and Tools},\n",
        "  year = {2022},\n",
        "  howpublished = {\\url{https://spotintelligence.com/2022/12/09/lemmatization/#2_SpaCy_Lemmatizer}},\n",
        "  note = {Acessado em: 10 set. 2024}\n",
        "}\n"
      ],
      "metadata": {
        "id": "H2hi3V2LQnzE"
      }
    }
  ]
}